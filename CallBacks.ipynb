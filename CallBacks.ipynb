{
 "cells": [
  {
   "cell_type": "code",
   "execution_count": 1,
   "id": "bb206d4c-6654-4714-8c6f-571a98dc3523",
   "metadata": {},
   "outputs": [
    {
     "name": "stdout",
     "output_type": "stream",
     "text": [
      "OpenAI Key founded\n"
     ]
    }
   ],
   "source": [
    "import os\n",
    "from dotenv import load_dotenv\n",
    "\n",
    "dotenv_path = '.env'\n",
    "load_dotenv(dotenv_path)\n",
    "\n",
    "# Print out the environment variables loaded\n",
    "for key, value in os.environ.items():\n",
    "    if 'OPENAI' in key:\n",
    "        print(\"OpenAI Key founded\")\n",
    "        #print(f\"{key}: {value}\")\n",
    "\n",
    "openai_api_key = os.getenv('OPENAI_API_KEY')\n",
    "\n",
    "#print(f\"OpenAI API Key: {openai_api_key}\")"
   ]
  },
  {
   "cell_type": "markdown",
   "id": "24a6cc0e-52f8-4485-8f28-da0844a064ce",
   "metadata": {},
   "source": [
    "## Callbacks\n",
    "Calling functions in the middle of larger processes."
   ]
  },
  {
   "cell_type": "code",
   "execution_count": 2,
   "id": "8c6089f8-070f-4ede-873f-b87195557f59",
   "metadata": {},
   "outputs": [],
   "source": [
    "from langchain.callbacks import StdOutCallbackHandler\n",
    "from langchain.chains import LLMChain\n",
    "from langchain_openai import ChatOpenAI\n",
    "from langchain.prompts import PromptTemplate"
   ]
  },
  {
   "cell_type": "code",
   "execution_count": 4,
   "id": "175d2751-ab42-4df0-bff1-1481947cc569",
   "metadata": {},
   "outputs": [
    {
     "name": "stderr",
     "output_type": "stream",
     "text": [
      "/Users/mlandron/.pyenv/versions/myenv444/lib/python3.11/site-packages/langchain_core/_api/deprecation.py:119: LangChainDeprecationWarning: The class `LLMChain` was deprecated in LangChain 0.1.17 and will be removed in 0.3.0. Use RunnableSequence, e.g., `prompt | llm` instead.\n",
      "  warn_deprecated(\n"
     ]
    }
   ],
   "source": [
    "llm = ChatOpenAI()\n",
    "\n",
    "prompt_template = PromptTemplate(\n",
    "    input_variables=[\"input\"], \n",
    "    template=\"Tell me a joke about {input}\")\n",
    "\n",
    "chain = LLMChain(llm=llm, prompt=prompt_template)"
   ]
  },
  {
   "cell_type": "code",
   "execution_count": 5,
   "id": "9c07bd30-f07d-4deb-bd60-082ef569c178",
   "metadata": {},
   "outputs": [
    {
     "name": "stderr",
     "output_type": "stream",
     "text": [
      "/Users/mlandron/.pyenv/versions/myenv444/lib/python3.11/site-packages/langchain_core/_api/deprecation.py:119: LangChainDeprecationWarning: The method `Chain.run` was deprecated in langchain 0.1.0 and will be removed in 0.3.0. Use invoke instead.\n",
      "  warn_deprecated(\n"
     ]
    },
    {
     "name": "stdout",
     "output_type": "stream",
     "text": [
      "Why did the bear break up with his girlfriend? Because he couldn't bear the relationship any longer!\n"
     ]
    }
   ],
   "source": [
    "### Without Callbacks\n",
    "result_withoutcallbacks = chain.run(input=\"bear\")\n",
    "print(result_withoutcallbacks)"
   ]
  },
  {
   "cell_type": "code",
   "execution_count": 6,
   "id": "e31e875b-0be8-4379-875a-702082b85bbd",
   "metadata": {},
   "outputs": [
    {
     "name": "stdout",
     "output_type": "stream",
     "text": [
      "\n",
      "\n",
      "\u001b[1m> Entering new LLMChain chain...\u001b[0m\n",
      "Prompt after formatting:\n",
      "\u001b[32;1m\u001b[1;3mTell me a joke about bear\u001b[0m\n",
      "\n",
      "\u001b[1m> Finished chain.\u001b[0m\n",
      "Why don't bears like fast food?\n",
      "\n",
      "Because they can't catch it!\n"
     ]
    }
   ],
   "source": [
    "### With Callbacks\n",
    "handler = StdOutCallbackHandler()\n",
    "result_callbacks = chain.run(input=\"bear\", callbacks=[handler])\n",
    "print(result_callbacks)"
   ]
  },
  {
   "cell_type": "code",
   "execution_count": null,
   "id": "8f481e82-478a-4a53-9d9a-4c1bfb08f046",
   "metadata": {},
   "outputs": [],
   "source": []
  },
  {
   "cell_type": "markdown",
   "id": "e22ca8ca-0154-41ef-a397-39145abff7c7",
   "metadata": {},
   "source": [
    "## Callback to check OpenAI costs, token usage, etc"
   ]
  },
  {
   "cell_type": "code",
   "execution_count": 7,
   "id": "21e5a363-6cf0-40fa-a332-e675103e66de",
   "metadata": {},
   "outputs": [],
   "source": [
    "from langchain.callbacks import get_openai_callback\n",
    "with get_openai_callback() as cb:\n",
    "    chain.run(input=\"elephant\")"
   ]
  },
  {
   "cell_type": "code",
   "execution_count": 8,
   "id": "248c9d6c-9b21-440c-99a4-db24242b6c55",
   "metadata": {},
   "outputs": [
    {
     "name": "stdout",
     "output_type": "stream",
     "text": [
      "Tokens Used: 32\n",
      "\tPrompt Tokens: 13\n",
      "\tCompletion Tokens: 19\n",
      "Successful Requests: 1\n",
      "Total Cost (USD): $5.75e-05\n"
     ]
    }
   ],
   "source": [
    "print(cb)"
   ]
  },
  {
   "cell_type": "code",
   "execution_count": null,
   "id": "f5760e6c-f1d6-4cdb-b97e-9fabf4d13e05",
   "metadata": {},
   "outputs": [],
   "source": []
  }
 ],
 "metadata": {
  "kernelspec": {
   "display_name": "Python 3 (ipykernel)",
   "language": "python",
   "name": "python3"
  },
  "language_info": {
   "codemirror_mode": {
    "name": "ipython",
    "version": 3
   },
   "file_extension": ".py",
   "mimetype": "text/x-python",
   "name": "python",
   "nbconvert_exporter": "python",
   "pygments_lexer": "ipython3",
   "version": "3.11.4"
  }
 },
 "nbformat": 4,
 "nbformat_minor": 5
}
