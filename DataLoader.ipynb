{
 "cells": [
  {
   "cell_type": "code",
   "execution_count": 1,
   "id": "0e53887d-dc66-4c0e-ae88-55c8680abb5b",
   "metadata": {},
   "outputs": [
    {
     "name": "stdout",
     "output_type": "stream",
     "text": [
      "OpenAI Key founded\n"
     ]
    }
   ],
   "source": [
    "import os\n",
    "from dotenv import load_dotenv\n",
    "\n",
    "dotenv_path = '.env'\n",
    "load_dotenv(dotenv_path)\n",
    "\n",
    "# Print out the environment variables loaded\n",
    "for key, value in os.environ.items():\n",
    "    if 'OPENAI' in key:\n",
    "        print(\"OpenAI Key founded\")\n",
    "        #print(f\"{key}: {value}\")\n",
    "\n",
    "openai_api_key = os.getenv('OPENAI_API_KEY')\n",
    "\n",
    "#print(f\"OpenAI API Key: {openai_api_key}\")"
   ]
  },
  {
   "cell_type": "code",
   "execution_count": 14,
   "id": "8b09fa23-2d92-4626-a3ab-4c63ad5c692d",
   "metadata": {},
   "outputs": [],
   "source": [
    "from langchain_openai import OpenAI\n",
    "llm = OpenAI()"
   ]
  },
  {
   "cell_type": "markdown",
   "id": "634fc84f-78c0-418c-b04a-5fe6740b84f1",
   "metadata": {},
   "source": [
    "## Loading PDF documents"
   ]
  },
  {
   "cell_type": "code",
   "execution_count": 5,
   "id": "4f838239-97ed-43e2-9699-e428183a5fcb",
   "metadata": {},
   "outputs": [],
   "source": [
    "#!pip install pypdf\n",
    "#!pip install -U langchain-community"
   ]
  },
  {
   "cell_type": "code",
   "execution_count": 6,
   "id": "a6509cfb-5c6c-4dbf-8256-96f06ffc88b7",
   "metadata": {},
   "outputs": [
    {
     "name": "stderr",
     "output_type": "stream",
     "text": [
      "Ignoring wrong pointing object 8 0 (offset 0)\n"
     ]
    }
   ],
   "source": [
    "from langchain.document_loaders import PyPDFLoader\n",
    "loader = PyPDFLoader(\"Data/InformeBC2023.pdf\")\n",
    "pages = loader.load()"
   ]
  },
  {
   "cell_type": "code",
   "execution_count": 7,
   "id": "ba91320f-f90e-4f2d-a0a8-07565c8e466f",
   "metadata": {},
   "outputs": [
    {
     "data": {
      "text/plain": [
       "5"
      ]
     },
     "execution_count": 7,
     "metadata": {},
     "output_type": "execute_result"
    }
   ],
   "source": [
    "len(pages)"
   ]
  },
  {
   "cell_type": "code",
   "execution_count": 10,
   "id": "0b2216fa-00bb-4cd9-8582-bfa055838e2c",
   "metadata": {},
   "outputs": [],
   "source": [
    "page = pages[0]"
   ]
  },
  {
   "cell_type": "code",
   "execution_count": 11,
   "id": "01817809-947a-4cfc-8e38-d602550418ca",
   "metadata": {},
   "outputs": [
    {
     "name": "stdout",
     "output_type": "stream",
     "text": [
      "Economía dominicana registra expansión interanual de 2.4 % en enero-Economía dominicana registra expansión interanual de 2.4 % en enero-diciembre de 2023diciembre de 20231. 2. 3. \n",
      "\n"
     ]
    }
   ],
   "source": [
    "print(page.page_content[0:500])"
   ]
  },
  {
   "cell_type": "code",
   "execution_count": 12,
   "id": "87d1d391-912b-40f1-a432-c2ab16ae1f9b",
   "metadata": {},
   "outputs": [
    {
     "data": {
      "text/plain": [
       "{'source': 'Data/InformeBC2023.pdf', 'page': 0}"
      ]
     },
     "execution_count": 12,
     "metadata": {},
     "output_type": "execute_result"
    }
   ],
   "source": [
    "page.metadata"
   ]
  },
  {
   "cell_type": "markdown",
   "id": "1b80052e-213a-47d7-ad08-e0582ab3471f",
   "metadata": {
    "jp-MarkdownHeadingCollapsed": true
   },
   "source": [
    "### Summary PDF"
   ]
  },
  {
   "cell_type": "code",
   "execution_count": 24,
   "id": "fc7ab81b-4a50-481a-b2ca-2cb11a3293a7",
   "metadata": {},
   "outputs": [],
   "source": [
    "# Create a list of Document objects\n",
    "from langchain.schema import Document\n",
    "documents = [Document(page_content=page.page_content) for page in pages]\n",
    "#print(documents)"
   ]
  },
  {
   "cell_type": "code",
   "execution_count": 20,
   "id": "c1e8ab6e-622a-4203-a961-aeb3127b3343",
   "metadata": {},
   "outputs": [],
   "source": [
    "from langchain.chains.summarize import load_summarize_chain\n",
    "chain = load_summarize_chain(llm, chain_type=\"stuff\", verbose=True)"
   ]
  },
  {
   "cell_type": "code",
   "execution_count": 25,
   "id": "e611038f-f027-4b15-a0e0-7cfc1f54981d",
   "metadata": {},
   "outputs": [
    {
     "name": "stdout",
     "output_type": "stream",
     "text": [
      "\n",
      "\n",
      "\u001b[1m> Entering new StuffDocumentsChain chain...\u001b[0m\n",
      "\n",
      "\n",
      "\u001b[1m> Entering new LLMChain chain...\u001b[0m\n",
      "Prompt after formatting:\n",
      "\u001b[32;1m\u001b[1;3mWrite a concise summary of the following:\n",
      "\n",
      "\n",
      "\"Economía dominicana registra expansión interanual de 2.4 % en enero-Economía dominicana registra expansión interanual de 2.4 % en enero-diciembre de 2023diciembre de 20231. 2. 3. \n",
      "\n",
      "\n",
      "Previous Next• El desempeño del año 2023 se ubicó por encima del crecimiento promedio de América Latina de 2.2 % estimadopor el Banco Mundial.• El indicador mensual de actividad económica (IMAE) registró una expansión interanual de 4.7 % en el mes dediciembre de 2023, siendo esta la tasa mensual más alta del referido año.• La inﬂación de enero-diciembre 2023 resultó la menor tasa anual de los últimos cinco años, ubicándose en 3.57%, continuando su tendencia descendente hasta colocarse por debajo del centro del rango meta de 4.0 %±1.0 %establecido en el programa monetario.• Los ingresos de divisas al país por concepto de turismo se ubicaron en US$9,828.9 millones, para un crecimientointeranual de 16.9 % respecto a 2022.• Durante el año 2023 se recibieron US$10,157.2 millones de remesas, lo cual representa un crecimiento de 3.1 % encomparación con el mismo período del año anterior.• La inversión extranjera directa (IED) ascendió a la cifra de US$4,381 millones en 2023, un incremento interanualde alrededor de 9.2 %.• Se espera que el estímulo monetario y la mayor inversión pública continúen incidiendo en la dinamización de laactividad económica durante el presente año 2024.El Banco Central de la República Dominicana (BCRD) en el interés de mantener debidamente informados a losagentes económicos y a la opinión pública en general, y como parte del compromiso institucional con latransparencia y la divulgación oportuna de datos bajo su responsabilidad, informa los resultados preliminares de laactividad económica al cierre del año 2023.El indicador mensual de actividad económica (IMAE) registró una expansión de 4.7 % en el mes de diciembre de2023, siendo esta la tasa mensual más alta del referido año. Con este resultado el crecimiento económicopromedio del año 2023 se ubicó en 2.4 %, en línea con lo proyectado por el Banco Central a ﬁnales del pasado añoy ubicándose por encima del promedio de 2.2 % estimado para América Latina por el Banco Mundial en su másreciente publicación de “Perspectivas de la Economía Mundial” de enero de 2024.Como se puede observar el desempeño de la economía dominicana presenta una tendencia creciente, al registrarun incremento de 4.2 % en el trimestre octubre-diciembre de 2023, superior al 2.6 % observado en julio-septiembrede dicho año y al 3.3 % experimentado en el último trimestre del año 2022, mejorando con respecto al observadoen el primer semestre de 2023 cuando se registró una desaceleración de la demanda interna.En cuanto a Estados Unidos de América (EUA), principal socio comercial para la Republica Dominicana, las cifrasmás recientes indican que su actividad económica registró un crecimiento interanual de 2.5% en el año 2023,reﬂejando que ha sido más resiliente de lo previsto. Particularmente, en octubre-diciembre 2023 creció 3.1% conrespecto al último trimestre del año 2022.Cabe destacar que el comportamiento de la economía dominicana es consistente con el mecanismo detransmisión de la política monetaria, el cual se mantiene operando favorablemente. En este sentido, se espera queel estímulo monetario y la mayor inversión pública continúen incidiendo en la dinamización de la actividad\n",
      "\n",
      "económica durante el presente año 2024.\n",
      "Con respecto a la inﬂación, cabe destacar que a partir del mes de mayo del año 2023 la República Dominicanalogró la convergencia de la inﬂación a su rango meta, siendo uno de los primeros países de América Latina enalcanzar este objetivo. En ese sentido, el índice de precios al consumi dor (IPC) registró una variación mensual de0.54 % en diciembre de 2023, menor a la inﬂación de 0.96 % observada en diciembre de 2022, reﬂejando unadesaceleración en el ritmo promedio de crecimiento de los precios en el último mes del año. Con este resultado, lainﬂación interanual medida desde diciembre de 2022 hasta diciembre de 2023 resultó la menor tasa anual de losúltimos cinco años, ubicándose en 3.57 %, continuando su tendencia descendente hasta colocarse por debajo delcentro del rango meta de 4.0 % ± 1.0 % establecido en el programa monetario.\n",
      "Al analizar los datos de 18 economías de América Latina al cierre del año 2023, se evidencia que la tasa deinﬂación interanual de la República Dominicana se encuentra entre las más bajas. En efecto, es inferior a la de oncepaíses de la región, esto quiere decir que seis de ellos reportan una inﬂación interanual por debajo de ladominicana, de los cuales tres son de economías dolarizadas (Panamá, Ecuador y El Salvador).\n",
      "\n",
      "En cuanto al desempeño por actividad económica en el mes de diciembre, su comportamiento se explicaprincipalmente por el desempeño de las actividades hoteles, bares y restaurantes (10.5 %), construcción (9.7 %),servicios ﬁnancieros (9.4 %), manufactura de zonas francas (4.8 %), agropecuario (4.3 %), entre otras.\n",
      "Un aspecto importante a destacar es que la construcción, sector con un signiﬁcativo efecto multiplicador yarrastre de otros sectores económicos ha estado registrando tasas de variación positivas de forma consecutivadesde el mes de julio de 2023. Esto reﬂeja el mayor dinamismo en la ejecución del gasto de capital público conrespecto a igual período del año anterior, así como el impacto favorable de las medidas de provisión de liquidezutilizando como colateral en garantía títulos del Ministerio de Hacienda y el Banco Central, implementadas por lasautoridades monetarias para acelerar el mecanismo de transmisión de la política monetaria. En este sentido,durante el recién ﬁnalizado año las facilidades otorgadas por el Banco Central permitieron la canalización de unosRD$184,000 millones a tasas de interés no mayores al 9.0 % anual a través de los intermediarios ﬁnancieros parafacilitar préstamos a los sectores productivos y los hogares. Lo anterior, unido a la reducción de 150 puntos en latasa de política monetaria han propiciado una disminución en el promedio ponderado de las tasas de interés demercado de unos 200 puntos básicos, y a su vez han incidido positivamente en la recuperación del crecimientoeconómico.De igual forma, sobresale el comportamiento de la manufactura de zonas francas, la cual registró un aumentointeranual de 4.8 % en su valor agregado real de diciembre de 2023. Durante dicho mes, este sector alcanzó unnivel de exportaciones de US$607.2 millones, unos US$36 millones adicionales con respecto al mismo mes de2022, equivalentes a una variación interanual de 6.3 %. Para el cierre de 2023, las mismas acumularon un total deUS$7,953.8 millones, destacándose el desempeño de las exportaciones de equipos médicos y quirúrgicos.Al analizar el comportamiento de la actividad hoteles, bares y restaurantes durante enero-diciembre 2023, lamisma registró un crecimiento interanual de 10.7 %, siendo la de mayor incidencia en la actividad económica en elreferido año. El desempeño del valor agregado real de esta actividad estuvo impulsado principalmente por lallegada de pasajeros por vía aérea, la cual alcanzó los 8,058,671 turistas en enero-diciembre de 2023. Cabe señalarque, al considerar la recepción de 2,259,292 cruceristas al mes de diciembre, el total acumulado de visitantes alpaís en el año 2023 se ubicó en la cifra sin precedentes de 10.3 millones. En este sentido, los ingresos de divisas alpaís por este concepto se ubicaron en US$9,828.9 millones, para un crecimiento interanual de 16.9 % respecto a2022.En cuanto a la actividad de intermediación ﬁnanciera se reﬁere, la misma exhibió una variación interanual de 6.9 %en su valor agregado real en enero-diciembre de 2023, incidiendo en este comportamiento la expansión interanualde 20.7 % del crédito otorgado al sector privado en moneda nacional al cierre de diciembre de 2023, equivalente aun incremento absoluto de RD$279,482 millones en los préstamos canalizados.Al analizar la actividad agropecuaria se observa una variación interanual de 3.9 % al cierre de 2023. Elcomportamiento de este sector obedece al incremento en la producción de los principales rubros de consumo\n",
      "\n",
      "nacional como el plátano, pollo, huevos, entre otros. En este comportamiento han sido fundamentales las medidasdispuestas por el Gobierno, a través del Ministerio de Agricultura y sus dependencias, las cuales han brindadoapoyo técnico y ﬁnanciero a los productores agropecuarios a nivel nacional y garantizado la seguridad alimentariadel país.Por otro lado, se registró un desempeño favorable en las actividades generadoras de divisas, destacándose quedurante el año 2023 se recibieron US$10,157.2 millones de remesas, en línea con las proyecciones del BCRD, lo cualrepresenta un crecimiento de 3.1 % en comparación con el mismo período del año anterior. Estos recursosaportados por la diáspora, sin lugar a duda tienen un efecto multiplicador sobre el consumo, la inversión y elﬁnanciamiento de los sectores más vulnerables.La inversión extranjera directa (IED) ascendió a la cifra de US$4,381 millones en 2023, un incremento de alrededorde 9.2 % respecto al monto recibido en 2022, dentro de los cuales se destaca la evolución de los sectores turismo,energía e inmobiliario.Finalmente, estos resultados auguran un desempeño favorable de la economía dominicana durante el año 2024,con una proyección de crecimiento de 5 %, en torno al ritmo potencial, uno de los más altos de América Latina, enun contexto en que la inﬂación doméstica se mantendría dentro del rango meta establecido en el programamonetario de 4 % ± 1 % y continuaría los ﬂujos de inversión extranjera directa (IED).Lunes 29 de enero, 2024\"\n",
      "\n",
      "\n",
      "CONCISE SUMMARY:\u001b[0m\n",
      "\n",
      "\u001b[1m> Finished chain.\u001b[0m\n",
      "\n",
      "\u001b[1m> Finished chain.\u001b[0m\n",
      " The Dominican economy experienced a 2.4% year-on-year expansion in January-December 2023, surpassing the average growth of 2.2% for Latin America. The monthly economic activity indicator showed a 4.7% increase in December 2023, the highest rate of the year. Inflation remained low at 3.57% and the country received significant amounts of foreign investment, tourism revenue and remittances. The construction and tourism sectors were the main drivers of economic growth, leading to a projected growth rate of 5% for 2024.\n"
     ]
    }
   ],
   "source": [
    "summary = chain.run(documents)\n",
    "print(summary)"
   ]
  },
  {
   "cell_type": "code",
   "execution_count": 26,
   "id": "0c1ed622-82ba-470e-a337-d017c068dda9",
   "metadata": {},
   "outputs": [],
   "source": [
    "#from langchain.document_loaders.generic import GenericLoader\n",
    "#from langchain.document_loaders.parsers import OpenAIWhisperParser\n",
    "#from langchain.document_loaders.blob_loaders.youtube_audio import YoutubeAudioLoader\n",
    "from langchain_community.document_loaders.generic import GenericLoader\n",
    "from langchain_community.document_loaders.parsers import OpenAIWhisperParser\n",
    "from langchain_community.document_loaders.blob_loaders.youtube_audio import YoutubeAudioLoader"
   ]
  },
  {
   "cell_type": "markdown",
   "id": "30602479-ac15-436d-98d7-fffbd8269eaf",
   "metadata": {},
   "source": [
    "### Loading Youtube Audio"
   ]
  },
  {
   "cell_type": "code",
   "execution_count": 35,
   "id": "784965bc-81e2-4d2a-898b-d46a59bbe94a",
   "metadata": {},
   "outputs": [],
   "source": [
    "#!pip install yt_dlp\n",
    "#!pip install pydub\n",
    "#!pip install openai-whisper\n",
    "#!pip install pytube moviepy"
   ]
  },
  {
   "cell_type": "code",
   "execution_count": 45,
   "id": "48a7a3bf-ac6f-48a2-9c0f-d86a322aa54e",
   "metadata": {},
   "outputs": [
    {
     "name": "stdout",
     "output_type": "stream",
     "text": [
      "Requirement already satisfied: certifi in /Users/mlandron/.pyenv/versions/myenv444/lib/python3.11/site-packages (2024.6.2)\n",
      "MoviePy - Writing audio in Data/YouTube//audio.mp3\n"
     ]
    },
    {
     "name": "stderr",
     "output_type": "stream",
     "text": [
      "                                                                                   "
     ]
    },
    {
     "name": "stdout",
     "output_type": "stream",
     "text": [
      "MoviePy - Done.\n"
     ]
    },
    {
     "name": "stderr",
     "output_type": "stream",
     "text": [
      "\r"
     ]
    }
   ],
   "source": [
    "import os\n",
    "import ssl\n",
    "import certifi\n",
    "from pytube import YouTube\n",
    "from moviepy.editor import AudioFileClip\n",
    "import moviepy.config as mp_config\n",
    "\n",
    "# Ensure certifi is updated\n",
    "!pip install --upgrade certifi\n",
    "\n",
    "# Set environment variable to use certifi's certificate bundle\n",
    "os.environ['SSL_CERT_FILE'] = certifi.where()\n",
    "\n",
    "# Optionally, bypass SSL verification (not recommended for production)\n",
    "ssl._create_default_https_context = ssl._create_unverified_context\n",
    "\n",
    "# Set the path to ffmpeg (adjust this path if it's different on your system)\n",
    "ffmpeg_path = \"/Users/mlandron/brew/bin/ffmpeg\"\n",
    "mp_config.change_settings({\"FFMPEG_BINARY\": ffmpeg_path})\n",
    "\n",
    "# Define the URL and output directory\n",
    "url = \"https://www.youtube.com/watch?v=5ToZZCYMlms\"\n",
    "output_dir = \"Data/YouTube/\"\n",
    "\n",
    "# Download the YouTube video\n",
    "yt = YouTube(url)\n",
    "stream = yt.streams.filter(only_audio=True).first()\n",
    "audio_file_path = stream.download(output_path=output_dir)\n",
    "\n",
    "# Extract audio using moviepy\n",
    "audio_clip = AudioFileClip(audio_file_path)\n",
    "audio_clip.write_audiofile(f\"{output_dir}/audio.mp3\")\n",
    "\n",
    "# Close the audio clip\n",
    "audio_clip.close()"
   ]
  },
  {
   "cell_type": "code",
   "execution_count": 47,
   "id": "0ec85c4f-49a7-496b-9266-ead80d918fd6",
   "metadata": {},
   "outputs": [],
   "source": [
    "#!pip install openai-whisper"
   ]
  },
  {
   "cell_type": "code",
   "execution_count": null,
   "id": "673739f3-e48d-4721-8894-7326cc1df1f5",
   "metadata": {},
   "outputs": [],
   "source": []
  },
  {
   "cell_type": "code",
   "execution_count": null,
   "id": "12926647-1ac1-491f-bed3-0bd58ebc57f0",
   "metadata": {},
   "outputs": [],
   "source": []
  },
  {
   "cell_type": "code",
   "execution_count": 48,
   "id": "ea8f5b22-3992-48aa-9ad1-499613b2f009",
   "metadata": {},
   "outputs": [
    {
     "name": "stderr",
     "output_type": "stream",
     "text": [
      "100%|███████████████████████████████████████| 139M/139M [00:20<00:00, 7.05MiB/s]\n"
     ]
    },
    {
     "name": "stdout",
     "output_type": "stream",
     "text": [
      " Aprenda plantear y alcanzar tus metas financieras. Las metas financieras son las que hacen que trabajemos felices con norte y visión para cada horro que vamos a retener. Algunos ejemplos de metas financieras son conformar el fondo de emergencia, el inicial de tu caso vehículo, estudios propios o de tus hijos, remodelar tu casa, abrir un negocio, viajar, comprar de algún lujo. Para tus metas financieras debes planificar en no esteficiente, solamente saber que tienes una meta, sino que tienes que aprender cómo plantearlas y los pasos para poder alcanzarlas. Por esto, las metas deben plantearse con tres características reales, medibles y con fecha límita. Reales, porque no puedes decir que de hoy a mañana vas a ahorrar un millón de pesos. Debes de realista a tu situación financiera y potencial de ahorro. Medibles que puedas definir un número para alcanzar. Esto te va a permitir tener un control de qué también vas para alcanzar esta meta, qué tan cerca o lejos estás de cumplir la misma. Si en un mes, por ejemplo, tenías que agrar 5 mil pesos para la alcance de tu meta y solo agraste 2 mil pesos, ya sabes que el mes y anda debes compensarlo. Y con fecha límite debes ponerte un plazo que te va a permitir alcanzar esta meta con mayor responsabilidad y compromiso. Y los pasos prácticos para alcanzar tus metas. Primero debes plantear tus ingresos. A esos ingresos le vas a descontar los gastos fijos y necesarios y te va a quedar un excelente. Entonces es excelente ser para ojos para apoyar tus metas y para tus gastos secundarios. Vamos a procurar priorizar a ojos para poder alcanzar estas metas. Como alcanzar tus metas en cuatro pasos, número uno, planteas la meta, número dos, planteas el monto objetivo, número tres, planteas el plazo y número cuatro, planteas el monto ojar mensual. Por ejemplo, quiero saldar mi tarjeta de crédito con balance dependiente de 50 mil pesos en tres meses. Para lo que debo abonar 18.333 pesos con 23 centavos. O quiero viajar en septiembre de 2024, ahorrando y voy a ojar 180 dólares mensual. Hasta alcanzar un monto de 2.500. Proyecta todo este monto excel y manos a la obra.\n"
     ]
    }
   ],
   "source": [
    "import whisper\n",
    "\n",
    "def transcribe_audio(audio_path):\n",
    "    model = whisper.load_model(\"base\")\n",
    "    result = model.transcribe(audio_path)\n",
    "    return result['text']\n",
    "\n",
    "# Path to the audio file\n",
    "audio_path = \"Data/youtube/audio.mp3\"\n",
    "\n",
    "# Transcribe the audio\n",
    "transcription = transcribe_audio(audio_path)\n",
    "\n",
    "# Print the transcription\n",
    "print(transcription)"
   ]
  },
  {
   "cell_type": "code",
   "execution_count": null,
   "id": "1481d7c7-bc4c-474d-8ec8-8bbfe0ec945c",
   "metadata": {},
   "outputs": [],
   "source": []
  },
  {
   "cell_type": "markdown",
   "id": "f7b2aaaa-b12d-4e37-bc66-a3806d2c7377",
   "metadata": {},
   "source": [
    "### Loading Websites"
   ]
  },
  {
   "cell_type": "code",
   "execution_count": 49,
   "id": "ba97ab31-738b-4817-bec1-5aced283828f",
   "metadata": {},
   "outputs": [
    {
     "name": "stderr",
     "output_type": "stream",
     "text": [
      "WARNING:root:USER_AGENT environment variable not set, consider setting it to identify your requests.\n"
     ]
    }
   ],
   "source": [
    "from langchain.document_loaders import WebBaseLoader\n",
    "#loader = WebBaseLoader(\"https://aiaccelera.com/100-ai-startups-100-llm-apps-that-have-earned-500000-before-their-first-year-of-existence/\")\n",
    "loader = WebBaseLoader(\"https://www.diariolibre.com\")"
   ]
  },
  {
   "cell_type": "code",
   "execution_count": 50,
   "id": "80cac03a-b414-4bbd-8799-36d6a55b2d9d",
   "metadata": {},
   "outputs": [],
   "source": [
    "docs = loader.load()"
   ]
  },
  {
   "cell_type": "code",
   "execution_count": 60,
   "id": "747a1ea2-aa52-418d-8635-3818bebff401",
   "metadata": {},
   "outputs": [
    {
     "name": "stdout",
     "output_type": "stream",
     "text": [
      "\n",
      "\n",
      "\n",
      "\n",
      "\n",
      "\n",
      "\n",
      "\n",
      "\n",
      "\n",
      "\n",
      " Diario Libre: Ultimas Noticias de República Dominicana \n",
      "\n",
      "\n",
      "\n",
      "\n",
      "\n",
      "\n",
      "\n",
      "\n",
      "\n",
      "\n",
      "\n",
      "\n",
      "09 de junio del 2024\n",
      "\n",
      "31°C  87.8°F\n",
      "\n",
      "\n",
      "\n",
      "nubes dispersas\n",
      "\n",
      "\n",
      "\n",
      "Última Hora\n",
      "Actualidad\n",
      "Política\n",
      "Mundo\n",
      "Economía\n",
      "\n",
      "\n",
      "\n",
      "\n",
      "\n",
      "\n",
      "\n",
      "\n",
      "\n",
      "\n",
      "\n",
      "\n",
      "\n",
      "\n",
      "\n",
      "\n",
      "Cambiar a edición USA\n",
      "\n",
      "\n",
      "\n",
      "Revista\n",
      "Deportes\n",
      "Opinión\n",
      "Planeta\n",
      "Videos\n",
      "\n",
      "\n",
      "\n",
      "\n",
      "\n",
      "\n",
      "\n",
      "Explosión en Jardines del Norte\n",
      "Colegio Mahatma Gandhi\n",
      "Asalto al Banco Popular\n",
      "Alex Rodríguez\n",
      "Primer Ministro haitiano\n",
      "Embajador de EE.UU. en RD\n",
      "Clerén\n",
      "NBA en RD\n",
      "Apps dominicanas\n",
      "\n",
      "\n",
      "\n",
      "\n",
      "\n",
      "\n",
      "\n",
      "\n",
      "\n",
      "\n",
      "MiDL\n",
      "\n",
      "\n",
      "\n",
      "\n",
      "\n",
      "\n",
      "\n",
      "\n",
      "Secciones\n",
      "\n",
      "\n",
      "Última Hora\n",
      "\n",
      "\n",
      "\n"
     ]
    }
   ],
   "source": [
    "print(docs[0].page_content[:500])"
   ]
  },
  {
   "cell_type": "code",
   "execution_count": 55,
   "id": "9559d81b-c246-47cd-87a5-16eef2e42c94",
   "metadata": {},
   "outputs": [],
   "source": [
    "#!pip install unstructured"
   ]
  },
  {
   "cell_type": "markdown",
   "id": "8a11a0fc-9dae-400f-9594-3353f779b8b6",
   "metadata": {},
   "source": [
    "**Option 2: Unstructured HTML Loader**"
   ]
  },
  {
   "cell_type": "code",
   "execution_count": 56,
   "id": "fe8c7ab5-4b4a-467a-a77c-0714d6356580",
   "metadata": {},
   "outputs": [],
   "source": [
    "from langchain.document_loaders import UnstructuredHTMLLoader"
   ]
  },
  {
   "cell_type": "code",
   "execution_count": 57,
   "id": "c952d9e6-8a3f-4383-8826-c9927641ddec",
   "metadata": {},
   "outputs": [],
   "source": [
    "loader = UnstructuredHTMLLoader(\"data/_100 AI Startups__ 100 LLM Apps that have earned $500,000 before their first year of existence.html\")"
   ]
  },
  {
   "cell_type": "code",
   "execution_count": 59,
   "id": "1a071a25-e0a6-4724-87ee-5d42fa8e48e4",
   "metadata": {},
   "outputs": [],
   "source": [
    "#data = loader.load()"
   ]
  },
  {
   "cell_type": "code",
   "execution_count": null,
   "id": "716e1f97-b373-4d01-be1b-9b6f294aa794",
   "metadata": {},
   "outputs": [],
   "source": [
    "#data"
   ]
  }
 ],
 "metadata": {
  "kernelspec": {
   "display_name": "Python 3 (ipykernel)",
   "language": "python",
   "name": "python3"
  },
  "language_info": {
   "codemirror_mode": {
    "name": "ipython",
    "version": 3
   },
   "file_extension": ".py",
   "mimetype": "text/x-python",
   "name": "python",
   "nbconvert_exporter": "python",
   "pygments_lexer": "ipython3",
   "version": "3.11.4"
  }
 },
 "nbformat": 4,
 "nbformat_minor": 5
}
