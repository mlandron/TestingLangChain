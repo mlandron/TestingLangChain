{
 "cells": [
  {
   "cell_type": "code",
   "execution_count": 40,
   "id": "d3efaa94-126e-4cf2-aed7-4d790258411c",
   "metadata": {},
   "outputs": [
    {
     "name": "stdout",
     "output_type": "stream",
     "text": [
      "OpenAI Key founded\n"
     ]
    }
   ],
   "source": [
    "import os\n",
    "from dotenv import load_dotenv\n",
    "\n",
    "dotenv_path = '.env'\n",
    "load_dotenv(dotenv_path)\n",
    "\n",
    "# Print out the environment variables loaded\n",
    "for key, value in os.environ.items():\n",
    "    if 'OPENAI' in key:\n",
    "        print(\"OpenAI Key founded\")\n",
    "        #print(f\"{key}: {value}\")\n",
    "\n",
    "openai_api_key = os.getenv('OPENAI_API_KEY')\n",
    "\n",
    "#print(f\"OpenAI API Key: {openai_api_key}\")"
   ]
  },
  {
   "cell_type": "code",
   "execution_count": 41,
   "id": "ed2b2780-09e2-444c-8bf9-171ff0eedf1c",
   "metadata": {},
   "outputs": [],
   "source": [
    "import os\n",
    "from dotenv import load_dotenv, find_dotenv\n",
    "_ = load_dotenv(find_dotenv())\n",
    "openai_api_key = os.environ[\"OPENAI_API_KEY\"]"
   ]
  },
  {
   "cell_type": "markdown",
   "id": "b98ae243-a86a-435d-9b7a-490080c9b372",
   "metadata": {},
   "source": [
    "from langchain_openai import OpenAI"
   ]
  },
  {
   "cell_type": "markdown",
   "id": "f42b371d-2ceb-4201-871b-ae1d40b75415",
   "metadata": {},
   "source": [
    "### Connect with LM"
   ]
  },
  {
   "cell_type": "code",
   "execution_count": 42,
   "id": "b727c197-bb63-4c3d-a32a-5f432dcb97f7",
   "metadata": {},
   "outputs": [],
   "source": [
    "my_creative_llm = OpenAI(temperature=0.9)"
   ]
  },
  {
   "cell_type": "code",
   "execution_count": 49,
   "id": "1d314123-a7dc-41ca-b7f7-15dab2026502",
   "metadata": {},
   "outputs": [],
   "source": [
    "question = \"Can you mention the top 10 restaurant in Dominican Republic?\""
   ]
  },
  {
   "cell_type": "code",
   "execution_count": 50,
   "id": "46f25b51-e821-4653-b94f-5b102851af9a",
   "metadata": {},
   "outputs": [
    {
     "name": "stdout",
     "output_type": "stream",
     "text": [
      "\n",
      "1. Mokai Restaurant (Punta Cana)\n",
      "2. La Yola (Punta Cana)\n",
      "3. Cataleya (Santo Domingo)\n",
      "4. Muelle 47 (Las Terrenas)\n",
      "5. La Palapa by Eden Roc (Punta Cana)\n",
      "6. Don Pio Restaurante (Santiago de los Caballeros)\n",
      "7. La Casita de Papi (Santo Domingo)\n",
      "8. La Cava by Casa de Campo (La Romana)\n",
      "9. El Conuco (Santo Domingo)\n",
      "10. El Mesón de la Cava (Santo Domingo)\n"
     ]
    }
   ],
   "source": [
    "response = my_creative_llm(question)\n",
    "print(response)"
   ]
  },
  {
   "cell_type": "markdown",
   "id": "86ef10da-94a9-403a-8682-95ee8260ec22",
   "metadata": {},
   "source": [
    "### Create a prompt template to wrap the user input"
   ]
  },
  {
   "cell_type": "code",
   "execution_count": 44,
   "id": "8eb87892-40fb-4355-8133-2745d24eebb4",
   "metadata": {},
   "outputs": [],
   "source": [
    "from langchain.prompts import PromptTemplate"
   ]
  },
  {
   "cell_type": "code",
   "execution_count": 45,
   "id": "4e453efe-d9a2-49ed-80df-983f484f99b8",
   "metadata": {},
   "outputs": [],
   "source": [
    "my_prompt_template = PromptTemplate(\n",
    "    input_variables = [\"destination\"],\n",
    "    template = \"What are the 3 best things to do in {destination}?\"\n",
    ")"
   ]
  },
  {
   "cell_type": "code",
   "execution_count": 46,
   "id": "494182a6-ad4c-4032-8b2d-7a75dd853b9f",
   "metadata": {},
   "outputs": [],
   "source": [
    "user_input = \"Dominican Republic\""
   ]
  },
  {
   "cell_type": "code",
   "execution_count": 47,
   "id": "e14999c0-b755-4f4f-a026-848038e78cba",
   "metadata": {},
   "outputs": [
    {
     "name": "stdout",
     "output_type": "stream",
     "text": [
      "\n",
      "\n",
      "1. Explore the Beaches: The Dominican Republic is known for its beautiful beaches, with crystal clear waters and soft white sand. Some of the best beaches to visit include Punta Cana, Juanillo Beach, and Playa Rincon.\n",
      "\n",
      "2. Visit Historic Sites: The Dominican Republic has a rich history, and there are many historic sites to explore. Some popular ones include the Colonial Zone in Santo Domingo, which is a UNESCO World Heritage site, and the Taino Caves in San Rafael del Yuma.\n",
      "\n",
      "3. Experience the Culture: The Dominican Republic has a vibrant and diverse culture, influenced by its African, Spanish, and Taino heritage. Visitors can experience this through food, music, and festivals such as the Carnival celebrations. It is also worth visiting local markets and interacting with the friendly locals to get a real taste of the culture.\n"
     ]
    }
   ],
   "source": [
    "template_response = my_creative_llm(my_prompt_template.format(destination=user_input))\n",
    "print(template_response)"
   ]
  },
  {
   "cell_type": "markdown",
   "id": "3e87e0b9-a8e7-4294-bf8c-14f25901138b",
   "metadata": {},
   "source": [
    "### Combine instructions in chains"
   ]
  },
  {
   "cell_type": "code",
   "execution_count": 51,
   "id": "64484395-1cfc-4e94-a95c-4b59ba4c577d",
   "metadata": {},
   "outputs": [],
   "source": [
    "from langchain.prompts import PromptTemplate\n",
    "from langchain_openai import OpenAI\n",
    "from langchain.chains import LLMChain"
   ]
  },
  {
   "cell_type": "code",
   "execution_count": 52,
   "id": "7086505b-7d46-4a07-925a-3c0086bbf791",
   "metadata": {},
   "outputs": [],
   "source": [
    "my_no_creative_llm = OpenAI(temperature=0)"
   ]
  },
  {
   "cell_type": "code",
   "execution_count": 53,
   "id": "b42dd3c1-be15-44d1-9817-69f14af75d24",
   "metadata": {},
   "outputs": [],
   "source": [
    "my_prompt_template = PromptTemplate(\n",
    "    input_variables = [\"politician\"],\n",
    "    template = \"What are the 3 most remarkable achievements of {politician}?\",\n",
    ")"
   ]
  },
  {
   "cell_type": "code",
   "execution_count": 54,
   "id": "b8327f51-e10a-451f-9ec5-de0f8f165e67",
   "metadata": {},
   "outputs": [],
   "source": [
    "my_chain = LLMChain(llm=my_no_creative_llm, prompt=my_prompt_template)"
   ]
  },
  {
   "cell_type": "code",
   "execution_count": 55,
   "id": "4c92db74-6835-469a-8c20-853edbd0b677",
   "metadata": {},
   "outputs": [
    {
     "name": "stdout",
     "output_type": "stream",
     "text": [
      "{'politician': 'Churchill', 'text': '\\n\\n1. Leadership during World War II: Churchill\\'s leadership during World War II is widely considered to be his most remarkable achievement. As Prime Minister of the United Kingdom, he rallied the British people and inspired them to resist Nazi Germany, even when the country was facing defeat. His speeches, such as the famous \"We shall fight on the beaches\" speech, helped boost morale and unite the nation during the darkest days of the war.\\n\\n2. Iron Curtain Speech: In 1946, Churchill delivered his famous \"Iron Curtain\" speech in Fulton, Missouri, in which he warned of the growing threat of Soviet communism and called for a strong alliance between the United States and Britain to counter it. This speech is considered a turning point in the Cold War and helped shape Western policy towards the Soviet Union.\\n\\n3. Nobel Prize in Literature: In 1953, Churchill was awarded the Nobel Prize in Literature for his numerous works, including his six-volume memoir \"The Second World War.\" This recognition not only highlighted his literary talents but also his role as a statesman and leader on the world stage. He remains the only British Prime Minister to have received this prestigious award.'}\n"
     ]
    }
   ],
   "source": [
    "# Using invoke instead of run\n",
    "chain_response = my_chain.invoke(\"Churchill\")\n",
    "print(chain_response)"
   ]
  },
  {
   "cell_type": "markdown",
   "id": "2562ea35-9b27-40d0-b29d-71cdd8131173",
   "metadata": {},
   "source": [
    "### Agents: give reasoning power to LMs\n",
    "1. Load some external tools (google search, llm-math, etc)\n",
    "2. Initialize an agent type on top of the LM\n",
    "3. Run the agent and she will decide the tools to use based on your input"
   ]
  },
  {
   "cell_type": "markdown",
   "id": "8c97edb3-a0bb-409e-aaf9-bcc779f76027",
   "metadata": {},
   "source": [
    "*Careful: operations with agents are more expensive in tokens. We will not execute the code in this demo. To comment out an entire cell in Mac: Command + /*"
   ]
  },
  {
   "cell_type": "code",
   "execution_count": null,
   "id": "1b44c997-b1cc-42bb-b1c6-da00a923addd",
   "metadata": {},
   "outputs": [],
   "source": [
    "# from langchain.agents import load_tools\n",
    "# from langchain.agents import initialize_agent\n",
    "# from langchain.llms import OpenAI\n",
    "# tools = load_tools([\"serpapi\", \"llm-math\"], llm=llm)\n",
    "# agent = initialize_agent(tools, llm, agent=\"zero-shot-react-description\", verbose=True)\n",
    "# agent.run(\"Who is the current leader of Japan? What is the largest prime number that is smaller than their age?\")"
   ]
  },
  {
   "cell_type": "markdown",
   "id": "2d96d9a5-64b4-4df9-9001-9b9f8b41d26f",
   "metadata": {},
   "source": [
    "### Add Memory ###"
   ]
  },
  {
   "cell_type": "code",
   "execution_count": 56,
   "id": "bc126c2a-2e60-4d00-a53c-3d7563d85e53",
   "metadata": {},
   "outputs": [],
   "source": [
    "from langchain import ConversationChain"
   ]
  },
  {
   "cell_type": "code",
   "execution_count": 57,
   "id": "f5ee0ec7-0b65-4ff6-897f-1a1ecbccc7ea",
   "metadata": {},
   "outputs": [],
   "source": [
    "my_no_creative_llm = OpenAI(temperature=0)"
   ]
  },
  {
   "cell_type": "code",
   "execution_count": 58,
   "id": "896feb92-0170-483b-a641-1ed69b56bf6a",
   "metadata": {},
   "outputs": [],
   "source": [
    "my_conversation = ConversationChain(llm=my_no_creative_llm, verbose=True)"
   ]
  },
  {
   "cell_type": "code",
   "execution_count": 59,
   "id": "e5794714-803f-4749-a904-fa8d9632d331",
   "metadata": {},
   "outputs": [
    {
     "name": "stdout",
     "output_type": "stream",
     "text": [
      "\n",
      "\n",
      "\u001b[1m> Entering new ConversationChain chain...\u001b[0m\n",
      "Prompt after formatting:\n",
      "\u001b[32;1m\u001b[1;3mThe following is a friendly conversation between a human and an AI. The AI is talkative and provides lots of specific details from its context. If the AI does not know the answer to a question, it truthfully says it does not know.\n",
      "\n",
      "Current conversation:\n",
      "\n",
      "Human: hi there!\n",
      "AI:\u001b[0m\n",
      "\n",
      "\u001b[1m> Finished chain.\u001b[0m\n"
     ]
    },
    {
     "data": {
      "text/plain": [
       "{'input': 'hi there!',\n",
       " 'history': '',\n",
       " 'response': \" Hello! It's nice to meet you. I am an AI created by OpenAI. I am constantly learning and improving my abilities through machine learning algorithms. How can I assist you today?\"}"
      ]
     },
     "execution_count": 59,
     "metadata": {},
     "output_type": "execute_result"
    }
   ],
   "source": [
    "my_conversation(\"hi there!\")"
   ]
  },
  {
   "cell_type": "code",
   "execution_count": 60,
   "id": "769fa7bc-ac9a-4084-b8fa-edac09309002",
   "metadata": {},
   "outputs": [
    {
     "name": "stdout",
     "output_type": "stream",
     "text": [
      "\n",
      "\n",
      "\u001b[1m> Entering new ConversationChain chain...\u001b[0m\n",
      "Prompt after formatting:\n",
      "\u001b[32;1m\u001b[1;3mThe following is a friendly conversation between a human and an AI. The AI is talkative and provides lots of specific details from its context. If the AI does not know the answer to a question, it truthfully says it does not know.\n",
      "\n",
      "Current conversation:\n",
      "Human: hi there!\n",
      "AI:  Hello! It's nice to meet you. I am an AI created by OpenAI. I am constantly learning and improving my abilities through machine learning algorithms. How can I assist you today?\n",
      "Human: My name is Miguel Angel. I'm from DR. What is your name?\n",
      "AI:\u001b[0m\n",
      "\n",
      "\u001b[1m> Finished chain.\u001b[0m\n"
     ]
    },
    {
     "data": {
      "text/plain": [
       "{'input': \"My name is Miguel Angel. I'm from DR. What is your name?\",\n",
       " 'history': \"Human: hi there!\\nAI:  Hello! It's nice to meet you. I am an AI created by OpenAI. I am constantly learning and improving my abilities through machine learning algorithms. How can I assist you today?\",\n",
       " 'response': \" My name is OpenAI. I do not have a physical form, but I exist in the digital world. I am not from any specific country, but my creators are based in the United States. It's nice to meet you, Miguel Angel from the Dominican Republic. Is there anything else you would like to know?\"}"
      ]
     },
     "execution_count": 60,
     "metadata": {},
     "output_type": "execute_result"
    }
   ],
   "source": [
    "my_conversation(\"My name is Miguel Angel. I'm from DR. What is your name?\")"
   ]
  },
  {
   "cell_type": "code",
   "execution_count": 61,
   "id": "0f12451f-7604-43af-8f23-b972dbf5930b",
   "metadata": {},
   "outputs": [
    {
     "name": "stdout",
     "output_type": "stream",
     "text": [
      "\n",
      "\n",
      "\u001b[1m> Entering new ConversationChain chain...\u001b[0m\n",
      "Prompt after formatting:\n",
      "\u001b[32;1m\u001b[1;3mThe following is a friendly conversation between a human and an AI. The AI is talkative and provides lots of specific details from its context. If the AI does not know the answer to a question, it truthfully says it does not know.\n",
      "\n",
      "Current conversation:\n",
      "Human: hi there!\n",
      "AI:  Hello! It's nice to meet you. I am an AI created by OpenAI. I am constantly learning and improving my abilities through machine learning algorithms. How can I assist you today?\n",
      "Human: My name is Miguel Angel. I'm from DR. What is your name?\n",
      "AI:  My name is OpenAI. I do not have a physical form, but I exist in the digital world. I am not from any specific country, but my creators are based in the United States. It's nice to meet you, Miguel Angel from the Dominican Republic. Is there anything else you would like to know?\n",
      "Human: Do you remember my name and my nationality?\n",
      "AI:\u001b[0m\n",
      "\n",
      "\u001b[1m> Finished chain.\u001b[0m\n"
     ]
    },
    {
     "data": {
      "text/plain": [
       "' Yes, I do. Your name is Miguel Angel and you are from the Dominican Republic. I have the ability to store and recall information, so I can remember details about our conversation. Is there anything else you would like to know?'"
      ]
     },
     "execution_count": 61,
     "metadata": {},
     "output_type": "execute_result"
    }
   ],
   "source": [
    "my_conversation.predict(input=\"Do you remember my name and my nationality?\")"
   ]
  },
  {
   "cell_type": "code",
   "execution_count": null,
   "id": "9795efd7-17a5-4d86-99f7-ba0fea359d61",
   "metadata": {},
   "outputs": [],
   "source": []
  }
 ],
 "metadata": {
  "kernelspec": {
   "display_name": "Python 3 (ipykernel)",
   "language": "python",
   "name": "python3"
  },
  "language_info": {
   "codemirror_mode": {
    "name": "ipython",
    "version": 3
   },
   "file_extension": ".py",
   "mimetype": "text/x-python",
   "name": "python",
   "nbconvert_exporter": "python",
   "pygments_lexer": "ipython3",
   "version": "3.11.4"
  }
 },
 "nbformat": 4,
 "nbformat_minor": 5
}
