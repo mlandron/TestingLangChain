{
 "cells": [
  {
   "cell_type": "markdown",
   "id": "8bad368e-b0a7-4ec0-a62e-35b5da2f7b0b",
   "metadata": {},
   "source": [
    "## Chains: New LCEL Way"
   ]
  },
  {
   "cell_type": "code",
   "execution_count": 4,
   "id": "de309795-0a01-48e7-94dd-341fa4ea04c4",
   "metadata": {},
   "outputs": [],
   "source": [
    "#!pip install --upgrade openai\n",
    "#!echo y | openai migrate"
   ]
  },
  {
   "cell_type": "code",
   "execution_count": 12,
   "id": "0f0840e6-35ff-4023-99d5-5f6f44525fee",
   "metadata": {},
   "outputs": [],
   "source": [
    "#!pip uninstall -y openai \n",
    "#!pip install openai==1.0.0"
   ]
  },
  {
   "cell_type": "code",
   "execution_count": 5,
   "id": "de105bc1-640e-4186-8947-feef24147ab6",
   "metadata": {},
   "outputs": [
    {
     "name": "stdout",
     "output_type": "stream",
     "text": [
      "1.35.3\n"
     ]
    }
   ],
   "source": [
    "import openai\n",
    "print(openai.__version__)"
   ]
  },
  {
   "cell_type": "code",
   "execution_count": 8,
   "id": "b02ba1e5-6eaa-4253-a79e-9cbce9d43444",
   "metadata": {},
   "outputs": [
    {
     "name": "stdout",
     "output_type": "stream",
     "text": [
      "OpenAI Key found\n"
     ]
    }
   ],
   "source": [
    "import os\n",
    "from dotenv import load_dotenv\n",
    "import openai\n",
    "\n",
    "# Load environment variables from a .env file\n",
    "dotenv_path = '.env'\n",
    "load_dotenv(dotenv_path)\n",
    "\n",
    "# Get the OpenAI API key from environment variables\n",
    "openai.api_key = os.getenv('OPENAI_API_KEY')\n",
    "\n",
    "# Ensure the API key is found\n",
    "if openai.api_key:\n",
    "    print(\"OpenAI Key found\")\n",
    "else:\n",
    "    raise ValueError(\"OpenAI API Key not found in environment variables\")"
   ]
  },
  {
   "cell_type": "code",
   "execution_count": null,
   "id": "3ea2b34b-85f7-4ba4-8303-fee14bf79889",
   "metadata": {},
   "outputs": [],
   "source": [
    "from langchain.prompts import ChatPromptTemplate\n",
    "from langchain_openai import ChatOpenAI\n",
    "from langchain.chains import LLMChain"
   ]
  },
  {
   "cell_type": "code",
   "execution_count": null,
   "id": "c580e981-eee2-449d-bab1-4506915c4e9a",
   "metadata": {},
   "outputs": [],
   "source": [
    "llm = ChatOpenAI()"
   ]
  },
  {
   "cell_type": "code",
   "execution_count": 12,
   "id": "5e1c0f5c-4a6e-4847-98cf-f509b9465916",
   "metadata": {},
   "outputs": [],
   "source": [
    "prompt = ChatPromptTemplate.from_template(\n",
    "    \"Who won the soccer world cup of {year}?\"\n",
    ")"
   ]
  },
  {
   "cell_type": "code",
   "execution_count": 14,
   "id": "9ed1cd65-bc66-47f0-9d0e-ab17870701ac",
   "metadata": {},
   "outputs": [
    {
     "data": {
      "text/plain": [
       "AIMessage(content=\"I'm sorry, but I am unable to provide real-time information. The FIFA World Cup of 2022 has not yet taken place as of now.\", response_metadata={'token_usage': {'completion_tokens': 31, 'prompt_tokens': 18, 'total_tokens': 49}, 'model_name': 'gpt-3.5-turbo-0125', 'system_fingerprint': None, 'finish_reason': 'stop', 'logprobs': None}, id='run-18833669-170a-4baa-9357-51aa162a93b1-0', usage_metadata={'input_tokens': 18, 'output_tokens': 31, 'total_tokens': 49})"
      ]
     },
     "execution_count": 14,
     "metadata": {},
     "output_type": "execute_result"
    }
   ],
   "source": [
    "new_chain = prompt | llm\n",
    "new_chain.invoke({\"year\": \"2022\"})"
   ]
  },
  {
   "cell_type": "markdown",
   "id": "ae8e2fef-f255-4c6d-be8b-6f44099cf5f9",
   "metadata": {},
   "source": [
    "## Other Way"
   ]
  },
  {
   "cell_type": "code",
   "execution_count": 15,
   "id": "c1816456-4e68-4c52-aaf5-c1d6cf69eca0",
   "metadata": {},
   "outputs": [],
   "source": [
    "from langchain.prompts import ChatPromptTemplate\n",
    "from langchain_openai import ChatOpenAI\n",
    "from langchain.chains import LLMChain\n",
    "from langchain.schema.output_parser import StrOutputParser"
   ]
  },
  {
   "cell_type": "code",
   "execution_count": 16,
   "id": "979f600f-38b4-47e7-ab5a-1248964b9934",
   "metadata": {},
   "outputs": [],
   "source": [
    "llm = ChatOpenAI()"
   ]
  },
  {
   "cell_type": "code",
   "execution_count": 20,
   "id": "cfbe2ee6-81ed-4edd-aa88-4819cb33f5da",
   "metadata": {},
   "outputs": [],
   "source": [
    "prompt = ChatPromptTemplate.from_template(\n",
    "    \"Tell me the name of 3 players who won the soccer world cup of {year}?\"\n",
    ")"
   ]
  },
  {
   "cell_type": "code",
   "execution_count": 21,
   "id": "9144f14e-df4e-47cc-a20f-6a23e158e235",
   "metadata": {},
   "outputs": [],
   "source": [
    "output_parser = StrOutputParser()"
   ]
  },
  {
   "cell_type": "code",
   "execution_count": 22,
   "id": "c1c5be07-3ed6-4718-8c20-df46c3498941",
   "metadata": {},
   "outputs": [
    {
     "data": {
      "text/plain": [
       "'1. Andrés Iniesta'"
      ]
     },
     "execution_count": 22,
     "metadata": {},
     "output_type": "execute_result"
    }
   ],
   "source": [
    "new_chain = prompt | llm.bind(stop=[\"\\n2\"]) | StrOutputParser()\n",
    "new_chain.invoke({\"year\": \"2010\"})"
   ]
  },
  {
   "cell_type": "code",
   "execution_count": null,
   "id": "83a60a06-6419-45e7-a463-3d21c65bc759",
   "metadata": {},
   "outputs": [],
   "source": []
  }
 ],
 "metadata": {
  "kernelspec": {
   "display_name": "Python 3 (ipykernel)",
   "language": "python",
   "name": "python3"
  },
  "language_info": {
   "codemirror_mode": {
    "name": "ipython",
    "version": 3
   },
   "file_extension": ".py",
   "mimetype": "text/x-python",
   "name": "python",
   "nbconvert_exporter": "python",
   "pygments_lexer": "ipython3",
   "version": "3.11.4"
  }
 },
 "nbformat": 4,
 "nbformat_minor": 5
}
