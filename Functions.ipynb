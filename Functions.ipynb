{
 "cells": [
  {
   "cell_type": "code",
   "execution_count": 1,
   "id": "232f8846-b87f-4b75-974e-38e8ea6d7360",
   "metadata": {},
   "outputs": [
    {
     "name": "stdout",
     "output_type": "stream",
     "text": [
      "OpenAI Key founded\n"
     ]
    }
   ],
   "source": [
    "import os\n",
    "from dotenv import load_dotenv\n",
    "\n",
    "dotenv_path = '.env'\n",
    "load_dotenv(dotenv_path)\n",
    "\n",
    "# Print out the environment variables loaded\n",
    "for key, value in os.environ.items():\n",
    "    if 'OPENAI' in key:\n",
    "        print(\"OpenAI Key founded\")\n",
    "        #print(f\"{key}: {value}\")\n",
    "\n",
    "openai_api_key = os.getenv('OPENAI_API_KEY')\n",
    "\n",
    "#print(f\"OpenAI API Key: {openai_api_key}\")"
   ]
  },
  {
   "cell_type": "markdown",
   "id": "99baa96a-1938-4b5a-be10-eecd442a2b77",
   "metadata": {},
   "source": [
    "# Describe the functions"
   ]
  },
  {
   "cell_type": "code",
   "execution_count": 2,
   "id": "d46979cb-156f-43fa-85e3-c48623c8f185",
   "metadata": {},
   "outputs": [],
   "source": [
    "from langchain.prompts import ChatPromptTemplate\n",
    "from langchain_openai import ChatOpenAI\n",
    "from langchain.chains.openai_functions import create_openai_fn_chain\n",
    "from langchain.output_parsers.openai_functions import JsonOutputFunctionsParser"
   ]
  },
  {
   "cell_type": "code",
   "execution_count": 4,
   "id": "25b15978-36de-4a62-b7bf-e17d0657af9a",
   "metadata": {},
   "outputs": [],
   "source": [
    "llm = ChatOpenAI()"
   ]
  },
  {
   "cell_type": "code",
   "execution_count": 5,
   "id": "e1d0c4a0-f220-4129-abef-32d8ae25375a",
   "metadata": {},
   "outputs": [],
   "source": [
    "prompt = ChatPromptTemplate.from_template(\n",
    "    \"Tell me the name of the captain of the team who won the soccer world cup of {year}?\"\n",
    ")"
   ]
  },
  {
   "cell_type": "code",
   "execution_count": null,
   "id": "1adfe525-cfef-4f11-9d87-a94714961555",
   "metadata": {},
   "outputs": [],
   "source": [
    "output_parser = JsonOutputFunctionsParser()"
   ]
  },
  {
   "cell_type": "code",
   "execution_count": 7,
   "id": "66ad6de0-eca4-4529-b59a-dfd5220de107",
   "metadata": {},
   "outputs": [],
   "source": [
    "functions_soccer = [\n",
    "    {\n",
    "      \"name\": \"player_full_name\",\n",
    "      \"description\": \"Name and lastname of the player\",\n",
    "      \"parameters\": {\n",
    "        \"type\": \"object\",\n",
    "        \"properties\": {\n",
    "          \"name\": {\n",
    "            \"type\": \"string\",\n",
    "            \"description\": \"The first name of the player\"\n",
    "          },\n",
    "          \"lastname\": {\n",
    "            \"type\": \"string\",\n",
    "            \"description\": \"The lastname of the player\"\n",
    "          }\n",
    "        },\n",
    "        \"required\": [\"name\", \"lastname\"]\n",
    "      }\n",
    "    }\n",
    "  ]"
   ]
  },
  {
   "cell_type": "code",
   "execution_count": 10,
   "id": "69a551ab-c726-4c73-9880-d1f9f07685cd",
   "metadata": {},
   "outputs": [
    {
     "data": {
      "text/plain": [
       "{'name': 'Iker', 'lastname': 'Casillas'}"
      ]
     },
     "execution_count": 10,
     "metadata": {},
     "output_type": "execute_result"
    }
   ],
   "source": [
    "new_chain = (\n",
    "    prompt \n",
    "    | llm.bind(function_call={\"name\": \"player_full_name\"}, functions=functions_soccer)\n",
    "    | JsonOutputFunctionsParser()\n",
    ")\n",
    "new_chain.invoke({\"year\": \"2010\"})"
   ]
  },
  {
   "cell_type": "markdown",
   "id": "1b5c65c3-f91b-4d4c-8cc7-29b920ee996e",
   "metadata": {},
   "source": [
    "## Other Example "
   ]
  },
  {
   "cell_type": "code",
   "execution_count": 41,
   "id": "9e707c67-0a0f-4498-862b-3c7f7ae60005",
   "metadata": {},
   "outputs": [],
   "source": [
    "#!pip uninstall -y openai \n",
    "#!pip install openai==1.0.0"
   ]
  },
  {
   "cell_type": "code",
   "execution_count": 15,
   "id": "8462ed58-7faf-4797-abfd-9ac2e3d257b0",
   "metadata": {},
   "outputs": [],
   "source": [
    "#import openai\n",
    "#print(openai.__version__)\n"
   ]
  },
  {
   "cell_type": "code",
   "execution_count": 2,
   "id": "8a8dc418-5728-466c-8dd5-80ff7a115af7",
   "metadata": {},
   "outputs": [],
   "source": [
    "from langchain.prompts import ChatPromptTemplate\n",
    "\n",
    "prompt_salon = ChatPromptTemplate.from_template(\n",
    "    \"Eres el AI chatbot del salon teniendo una conversacion con el humano.\\n\\n\"\n",
    "    \"Humano: {human_input}\\n\"\n",
    "    \"AI:\"\n",
    ")"
   ]
  },
  {
   "cell_type": "code",
   "execution_count": 3,
   "id": "ae0834ae-9d08-4bd5-aa9d-b41d2b80380f",
   "metadata": {},
   "outputs": [],
   "source": [
    "functions_salon = [\n",
    "    {\n",
    "        \"name\": \"get_item_info\",\n",
    "        \"description\": \"Obtener el nombre y precio de los productos del catalogo del salon de belleza X\",\n",
    "        \"parameters\": {\n",
    "            \"type\": \"object\",\n",
    "            \"properties\": {\n",
    "                \"nombre_producto\": {\n",
    "                    \"type\": \"string\",\n",
    "                    \"description\": \"El nombre del producto del catalogo, por ejemplo, Shampoo anticaspa\",\n",
    "                },\n",
    "            },\n",
    "            \"required\": [\"nombre_producto\"],\n",
    "        },\n",
    "    },\n",
    "    {\n",
    "        \"name\": \"place_order\",\n",
    "        \"description\": \"Realizar un pedido de un producto del catalogo del salon de belleza X\",\n",
    "        \"parameters\": {\n",
    "            \"type\": \"object\",\n",
    "            \"properties\": {\n",
    "                \"nombre_producto\": {\n",
    "                    \"type\": \"string\",\n",
    "                    \"description\": \"El nombre del producto que desea pedir, por ejemplo, Shampoo anticaspa\",\n",
    "                },\n",
    "                \"cantidad\": {\n",
    "                    \"type\": \"integer\",\n",
    "                    \"description\": \"La cantidad de productos que desea pedir\",\n",
    "                    \"minimum\": 1\n",
    "                },\n",
    "                \"direccion\": {\n",
    "                    \"type\": \"string\",\n",
    "                    \"description\": \"La direccion donde se debe entregar la comida\",\n",
    "                },\n",
    "            },\n",
    "            \"required\": [\"nombre_producto\", \"cantidad\", \"direccion\"],\n",
    "        },\n",
    "    }\n",
    "]"
   ]
  },
  {
   "cell_type": "code",
   "execution_count": 4,
   "id": "d5610cf8-f7cb-4e86-8665-e266ccb62944",
   "metadata": {},
   "outputs": [],
   "source": [
    "fake_db = {\n",
    "    \"products\": {\n",
    "        \"Shampoo anticaspa\": {\"price\": 15.00, \"ingredients\": [\"shampoo\", \"aloe\", \"mental\"]},\n",
    "        \"Tinte rojo\": {\"price\": 18.00, \"ingredients\": [\"colorizante\", \"color amarillo\", \"agua\"]},\n",
    "        \"Peluca\": {\"price\": 12.50, \"ingredients\": [\"cabello\", \"pegamento\", \"fibra plastica\"]}\n",
    "    },\n",
    "    \"orders\": []\n",
    "}"
   ]
  },
  {
   "cell_type": "code",
   "execution_count": 5,
   "id": "cd0bf3cd-6c0e-4c6a-8933-85e7400134d7",
   "metadata": {},
   "outputs": [],
   "source": [
    "def get_item_info(nombre_producto):\n",
    "    item = fake_db[\"products\"].get(nombre_producto)\n",
    "    if not item:\n",
    "        return f\"No tenemos informacion de ese producto ({nombre_producto}).\"\n",
    "    return f\"Nombre: {nombre_producto}, Precio: {item['price']}, Ingredientes: {item['ingredients']}\"\n",
    "\n",
    "def place_order(nombre_producto, cantidad, direccion):\n",
    "    item = fake_db[\"products\"].get(nombre_producto)\n",
    "    if not item:\n",
    "        return f\"No tenemos ese producto ({nombre_producto}).\"\n",
    "    \n",
    "    order_id = len(fake_db[\"orders\"]) + 1\n",
    "    order = {\n",
    "        \"id\": order_id,\n",
    "        \"product\": nombre_producto,\n",
    "        \"quantity\": cantidad,\n",
    "        \"address\": direccion,\n",
    "        \"total_price\": item[\"price\"] * cantidad\n",
    "    }\n",
    "    fake_db[\"orders\"].append(order)\n",
    "    return f\"Hemos puesto tu orden! Tu numero de orden es {order_id}. El precio total es {order['total_price']}.\""
   ]
  },
  {
   "cell_type": "code",
   "execution_count": 8,
   "id": "7266d38c-2513-4d52-952e-17862dbfae83",
   "metadata": {},
   "outputs": [],
   "source": [
    "from langchain_openai import ChatOpenAI\n",
    "llm = ChatOpenAI()"
   ]
  },
  {
   "cell_type": "code",
   "execution_count": 9,
   "id": "137c9864-4f03-456f-b453-ac83ea041739",
   "metadata": {},
   "outputs": [],
   "source": [
    "from langchain_core.runnables import RunnableSequence\n",
    "#from langchain_community.chat_models import OpenAIChat\n",
    "from langchain.chat_models import ChatOpenAI\n",
    "from langchain.output_parsers.openai_functions import JsonOutputFunctionsParser"
   ]
  },
  {
   "cell_type": "code",
   "execution_count": 9,
   "id": "19447327-4e70-4028-b7c0-91054a3825d7",
   "metadata": {},
   "outputs": [
    {
     "name": "stdout",
     "output_type": "stream",
     "text": [
      "{'nombre_producto': 'Tinte rojo', 'cantidad': 3, 'direccion': 'Plaza Naco'}\n"
     ]
    }
   ],
   "source": [
    "# Define prompt_salon to accept and process human_input\n",
    "def prompt_salon(human_input):\n",
    "    return f\"Prompt: {human_input}\"\n",
    "\n",
    "chat = ChatOpenAI(model_name=\"gpt-3.5-turbo\", api_key=openai_api_key)\n",
    "output_parser_salon = JsonOutputFunctionsParser()\n",
    "\n",
    "# Assuming `functions_salon` is properly defined elsewhere in your code\n",
    "# If it isn't, you'll need to define it accordingly.\n",
    "\n",
    "new_chain = (\n",
    "    prompt_salon\n",
    "    | chat.bind(function_call={\"name\": \"place_order\"}, functions=functions_salon)\n",
    "    | output_parser_salon\n",
    ")\n",
    "# Invoke the chain with the correct variable name\n",
    "response = new_chain.invoke({\"human_input\": \"Quiero ordenar tres Tinte rojo para llevar a Plaza Naco, cual es precio?\"})\n",
    "print(response)"
   ]
  },
  {
   "cell_type": "code",
   "execution_count": null,
   "id": "12421dc2-a57e-4bc6-9a99-1ca4f80ad5d3",
   "metadata": {},
   "outputs": [],
   "source": []
  }
 ],
 "metadata": {
  "kernelspec": {
   "display_name": "Python 3 (ipykernel)",
   "language": "python",
   "name": "python3"
  },
  "language_info": {
   "codemirror_mode": {
    "name": "ipython",
    "version": 3
   },
   "file_extension": ".py",
   "mimetype": "text/x-python",
   "name": "python",
   "nbconvert_exporter": "python",
   "pygments_lexer": "ipython3",
   "version": "3.11.4"
  }
 },
 "nbformat": 4,
 "nbformat_minor": 5
}
