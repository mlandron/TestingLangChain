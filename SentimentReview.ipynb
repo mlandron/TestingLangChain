{
 "cells": [
  {
   "cell_type": "code",
   "execution_count": 16,
   "id": "ae178850-1ee8-4083-8135-7c572b21994a",
   "metadata": {},
   "outputs": [
    {
     "name": "stdout",
     "output_type": "stream",
     "text": [
      "OpenAI Key founded\n"
     ]
    }
   ],
   "source": [
    "import os\n",
    "from dotenv import load_dotenv\n",
    "\n",
    "dotenv_path = '.env'\n",
    "load_dotenv(dotenv_path)\n",
    "\n",
    "# Print out the environment variables loaded\n",
    "for key, value in os.environ.items():\n",
    "    if 'OPENAI' in key:\n",
    "        print(\"OpenAI Key founded\")\n",
    "        #print(f\"{key}: {value}\")\n",
    "\n",
    "openai_api_key = os.getenv('OPENAI_API_KEY')\n",
    "\n",
    "#print(f\"OpenAI API Key: {openai_api_key}\")"
   ]
  },
  {
   "cell_type": "code",
   "execution_count": 9,
   "id": "d63985f7-b78b-4e2c-ac83-a8c119521fdf",
   "metadata": {},
   "outputs": [],
   "source": [
    "from langchain_openai import OpenAI\n",
    "from langchain.prompts.prompt import PromptTemplate"
   ]
  },
  {
   "cell_type": "code",
   "execution_count": 6,
   "id": "a5501e22-93a9-4e8b-bc4b-623a18ee3b04",
   "metadata": {},
   "outputs": [],
   "source": [
    "my_template = \"\"\"\n",
    "Clasifica el sentimiento del siguiente review.\n",
    "Sentimiento: Es el review positivo, neutro o negativo?\n",
    "\n",
    "Review: {review}\n",
    "\"\"\""
   ]
  },
  {
   "cell_type": "code",
   "execution_count": 7,
   "id": "167ec5c8-4a0d-498f-99f1-646f09d56488",
   "metadata": {},
   "outputs": [],
   "source": [
    "llm = OpenAI()"
   ]
  },
  {
   "cell_type": "code",
   "execution_count": 10,
   "id": "36bed2a3-e55d-4829-b863-900e7aeb2feb",
   "metadata": {},
   "outputs": [],
   "source": [
    "my_prompt = PromptTemplate(\n",
    "    template=my_template,\n",
    "    input_variables=[\"review\"]\n",
    ")"
   ]
  },
  {
   "cell_type": "code",
   "execution_count": 12,
   "id": "0fd9dbdf-59b5-4080-92a0-1eefdb4a18d0",
   "metadata": {},
   "outputs": [
    {
     "name": "stdout",
     "output_type": "stream",
     "text": [
      "\n",
      "Clasifica el sentimiento del siguiente review.\n",
      "Sentimiento: Es el review positivo, neutro o negativo?\n",
      "\n",
      "Review: No me gusto el servicio\n",
      "\n"
     ]
    }
   ],
   "source": [
    "preguntaReview1 = my_prompt.format(review=\"No me gusto el servicio\")\n",
    "print(preguntaReview1)"
   ]
  },
  {
   "cell_type": "code",
   "execution_count": 14,
   "id": "e2e24752-8db7-4767-8abf-eaebbb1c062e",
   "metadata": {},
   "outputs": [
    {
     "name": "stdout",
     "output_type": "stream",
     "text": [
      "Sentimiento: Negativo\n"
     ]
    }
   ],
   "source": [
    "respuestaReview1 = llm.invoke(preguntaReview1)\n",
    "print(respuestaReview1)"
   ]
  },
  {
   "cell_type": "code",
   "execution_count": 15,
   "id": "7acc4538-d37b-41ce-8df7-2ffc5b732e51",
   "metadata": {},
   "outputs": [
    {
     "name": "stdout",
     "output_type": "stream",
     "text": [
      "\n",
      "Positivo\n"
     ]
    }
   ],
   "source": [
    "preguntaReview2 = my_prompt.format(review=\"La verdad que esto fue un buen servicio\")\n",
    "respuestaReview2 = llm.invoke(preguntaReview2)\n",
    "print(respuestaReview2)"
   ]
  },
  {
   "cell_type": "code",
   "execution_count": null,
   "id": "7ed5e6a5-e661-4090-bd9e-e5ff2840add4",
   "metadata": {},
   "outputs": [],
   "source": []
  }
 ],
 "metadata": {
  "kernelspec": {
   "display_name": "Python 3 (ipykernel)",
   "language": "python",
   "name": "python3"
  },
  "language_info": {
   "codemirror_mode": {
    "name": "ipython",
    "version": 3
   },
   "file_extension": ".py",
   "mimetype": "text/x-python",
   "name": "python",
   "nbconvert_exporter": "python",
   "pygments_lexer": "ipython3",
   "version": "3.11.4"
  }
 },
 "nbformat": 4,
 "nbformat_minor": 5
}
