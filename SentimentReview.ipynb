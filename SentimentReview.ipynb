{
 "cells": [
  {
   "cell_type": "code",
   "execution_count": 1,
   "id": "ae178850-1ee8-4083-8135-7c572b21994a",
   "metadata": {},
   "outputs": [
    {
     "name": "stdout",
     "output_type": "stream",
     "text": [
      "OpenAI Key founded\n"
     ]
    }
   ],
   "source": [
    "import os\n",
    "from dotenv import load_dotenv\n",
    "\n",
    "dotenv_path = '.env'\n",
    "load_dotenv(dotenv_path)\n",
    "\n",
    "# Print out the environment variables loaded\n",
    "for key, value in os.environ.items():\n",
    "    if 'OPENAI' in key:\n",
    "        print(\"OpenAI Key founded\")\n",
    "        #print(f\"{key}: {value}\")\n",
    "\n",
    "openai_api_key = os.getenv('OPENAI_API_KEY')\n",
    "\n",
    "#print(f\"OpenAI API Key: {openai_api_key}\")"
   ]
  },
  {
   "cell_type": "code",
   "execution_count": 6,
   "id": "d63985f7-b78b-4e2c-ac83-a8c119521fdf",
   "metadata": {},
   "outputs": [],
   "source": [
    "from langchain_openai import OpenAI\n",
    "from langchain.prompts.prompt import PromptTemplate"
   ]
  },
  {
   "cell_type": "code",
   "execution_count": 6,
   "id": "a5501e22-93a9-4e8b-bc4b-623a18ee3b04",
   "metadata": {},
   "outputs": [],
   "source": [
    "my_template = \"\"\"\n",
    "Clasifica el sentimiento del siguiente review.\n",
    "Sentimiento: Es el review positivo, neutro o negativo?\n",
    "\n",
    "Review: {review}\n",
    "\"\"\""
   ]
  },
  {
   "cell_type": "code",
   "execution_count": 10,
   "id": "167ec5c8-4a0d-498f-99f1-646f09d56488",
   "metadata": {},
   "outputs": [],
   "source": [
    "llm = OpenAI()"
   ]
  },
  {
   "cell_type": "code",
   "execution_count": 10,
   "id": "36bed2a3-e55d-4829-b863-900e7aeb2feb",
   "metadata": {},
   "outputs": [],
   "source": [
    "my_prompt = PromptTemplate(\n",
    "    template=my_template,\n",
    "    input_variables=[\"review\"]\n",
    ")"
   ]
  },
  {
   "cell_type": "code",
   "execution_count": 12,
   "id": "0fd9dbdf-59b5-4080-92a0-1eefdb4a18d0",
   "metadata": {},
   "outputs": [
    {
     "name": "stdout",
     "output_type": "stream",
     "text": [
      "\n",
      "Clasifica el sentimiento del siguiente review.\n",
      "Sentimiento: Es el review positivo, neutro o negativo?\n",
      "\n",
      "Review: No me gusto el servicio\n",
      "\n"
     ]
    }
   ],
   "source": [
    "preguntaReview1 = my_prompt.format(review=\"No me gusto el servicio\")\n",
    "print(preguntaReview1)"
   ]
  },
  {
   "cell_type": "code",
   "execution_count": 14,
   "id": "e2e24752-8db7-4767-8abf-eaebbb1c062e",
   "metadata": {},
   "outputs": [
    {
     "name": "stdout",
     "output_type": "stream",
     "text": [
      "Sentimiento: Negativo\n"
     ]
    }
   ],
   "source": [
    "respuestaReview1 = llm.invoke(preguntaReview1)\n",
    "print(respuestaReview1)"
   ]
  },
  {
   "cell_type": "code",
   "execution_count": 15,
   "id": "7acc4538-d37b-41ce-8df7-2ffc5b732e51",
   "metadata": {},
   "outputs": [
    {
     "name": "stdout",
     "output_type": "stream",
     "text": [
      "\n",
      "Positivo\n"
     ]
    }
   ],
   "source": [
    "preguntaReview2 = my_prompt.format(review=\"La verdad que esto fue un buen servicio\")\n",
    "respuestaReview2 = llm.invoke(preguntaReview2)\n",
    "print(respuestaReview2)"
   ]
  },
  {
   "cell_type": "markdown",
   "id": "8694d134-9bbd-40b1-9ff4-65824c207d07",
   "metadata": {},
   "source": [
    "### Few Shot Prompting"
   ]
  },
  {
   "cell_type": "code",
   "execution_count": 2,
   "id": "d0495d18-dfb8-4a1c-b2ab-5b3aa564cfc3",
   "metadata": {},
   "outputs": [],
   "source": [
    "from langchain.prompts.few_shot import FewShotPromptTemplate"
   ]
  },
  {
   "cell_type": "code",
   "execution_count": 18,
   "id": "56173822-3b7e-47f5-8248-b6cecea2300a",
   "metadata": {},
   "outputs": [],
   "source": [
    "#my_few_shot_template_verbose = \"\"\"\n",
    "#Clasifica el sentimiento del siguiente review.\n",
    "#Sentimiento: Es el review positivo, neutro o negativo?\n",
    "\n",
    "#Review: {review}\n",
    "\n",
    "#Ejemplos:\n",
    "#review: \"Eso esta mortal!\"\n",
    "#sentimiento: positivo\n",
    "\n",
    "#review: \"Me estas haciendo perder el tiempo\"\n",
    "#sentimiento: negativo\n",
    "\n",
    "#review: \"Bueno, es mejor que nada\"\n",
    "#sentimiento: neutro\n",
    "#\"\"\""
   ]
  },
  {
   "cell_type": "code",
   "execution_count": 3,
   "id": "57067b94-22ed-44e7-8246-fc5648dcbe47",
   "metadata": {},
   "outputs": [],
   "source": [
    "my_examples = [\n",
    "    {\n",
    "        \"review\": \"Eso esta mortal!\",\n",
    "        \"response\": \"sentimiento: positivo\" \n",
    "    },\n",
    "    {\n",
    "        \"review\": \"Me estas haciendo perder el tiempo\",\n",
    "        \"response\": \"sentimiento: negativo\" \n",
    "    },\n",
    "    {\n",
    "        \"review\": \"Bueno, es mejor que nada\",\n",
    "        \"response\": \"sentimiento: neutro\" \n",
    "    },\n",
    "]"
   ]
  },
  {
   "cell_type": "code",
   "execution_count": 4,
   "id": "03045c0a-b3b3-4571-b16d-c712ebb78b09",
   "metadata": {},
   "outputs": [],
   "source": [
    "my_few_shot_template_ok = \"\"\"\n",
    "Clasifica el sentimiento del siguiente review.\n",
    "Sentimiento: Es el review positivo, neutro o negativo?\n",
    "\n",
    "Review: {review}\n",
    "{response}\n",
    "\"\"\""
   ]
  },
  {
   "cell_type": "code",
   "execution_count": 7,
   "id": "8047f075-3c5e-4094-9f28-136ac60dcf72",
   "metadata": {},
   "outputs": [],
   "source": [
    "example_prompt = PromptTemplate(\n",
    "     input_variables=[\"review\", \"response\"],\n",
    "     template=my_few_shot_template_ok\n",
    " )"
   ]
  },
  {
   "cell_type": "code",
   "execution_count": 8,
   "id": "d3e74df2-16cd-43d8-bbbe-21e96b367c38",
   "metadata": {},
   "outputs": [],
   "source": [
    "my_few_shot_prompt = FewShotPromptTemplate(\n",
    "    examples=my_examples,\n",
    "    example_prompt=example_prompt,\n",
    "    suffix=\"Review: {review}\",\n",
    "    input_variables=[\"review\"]\n",
    ")"
   ]
  },
  {
   "cell_type": "code",
   "execution_count": 13,
   "id": "04da480d-591f-4850-bbb4-89ebc3d57f2d",
   "metadata": {},
   "outputs": [
    {
     "name": "stdout",
     "output_type": "stream",
     "text": [
      "\n",
      "sentimiento: negativo\n",
      "\n"
     ]
    }
   ],
   "source": [
    "preguntaReviewFS1 = my_few_shot_prompt.format(review=\"Ustedes me tienen cansado\")\n",
    "respuestaReviewFS1 = llm.invoke(preguntaReviewFS1)  # Use invoke instead of __call__\n",
    "print(respuestaReviewFS1)"
   ]
  },
  {
   "cell_type": "code",
   "execution_count": 14,
   "id": "bbbb96ed-71bf-4bfb-9ca2-d9e736c62d01",
   "metadata": {},
   "outputs": [
    {
     "name": "stdout",
     "output_type": "stream",
     "text": [
      "!\n",
      "sentimiento: positivo\n"
     ]
    }
   ],
   "source": [
    "preguntaReviewFS2 = my_few_shot_prompt.format(review=\"Eso esta chulo\")\n",
    "respuestaReviewFS2 = llm.invoke(preguntaReviewFS2)  # Use invoke instead of __call__\n",
    "print(respuestaReviewFS2)"
   ]
  },
  {
   "cell_type": "markdown",
   "id": "0face121-a01c-42ba-bd21-4362b4357029",
   "metadata": {},
   "source": [
    "### Output Parse"
   ]
  },
  {
   "cell_type": "code",
   "execution_count": 20,
   "id": "4745c685-6498-4c37-b526-bb79dd88a300",
   "metadata": {},
   "outputs": [],
   "source": [
    "from langchain.output_parsers import PydanticOutputParser\n",
    "from langchain_core.pydantic_v1 import BaseModel, Field, validator\n",
    "from typing import List"
   ]
  },
  {
   "cell_type": "code",
   "execution_count": 21,
   "id": "03e12138-0b8e-447c-a6ec-bbb3152913c9",
   "metadata": {},
   "outputs": [],
   "source": [
    "class Reviews_Desired_Output_Structure(BaseModel):\n",
    "    sentiment: List[str] = Field(\n",
    "        description=\"Es positivo, negativo o neutro?\"\n",
    "    )\n",
    "    positive: List[str] = Field(\n",
    "        description=\"Identifica y resume lo positivo descrito en el review?\"\n",
    "    )\n",
    "    negative: List[str] = Field(\n",
    "        description=\"Identifica y resume lo negativo descrito en el review?\"\n",
    "    )"
   ]
  },
  {
   "cell_type": "code",
   "execution_count": 22,
   "id": "8fc8b8a9-f584-47f1-bb0f-a401ef22c21d",
   "metadata": {},
   "outputs": [],
   "source": [
    "output_parser = PydanticOutputParser(\n",
    "    pydantic_object=Reviews_Desired_Output_Structure\n",
    ")"
   ]
  },
  {
   "cell_type": "code",
   "execution_count": 23,
   "id": "6b3e3fa2-59ca-4a24-afbf-ebf879378f1f",
   "metadata": {},
   "outputs": [],
   "source": [
    "template_for_desired_output_with_parser = \"\"\"\n",
    "Este es el review: {big_review}.\n",
    "\n",
    "Yo quiero como output 3 cosas sobre el review en formato JSON dictionary:\n",
    "\n",
    "{format_instructions}\n",
    "\n",
    "\"sentiment\": Es positivo, negativo o neutro?\n",
    "\"positive\": Identifica y resume lo positivo descrito en el review?\n",
    "\"negative\": Identifica y resume lo negativo descrito en el review?\n",
    "\n",
    "\"\"\""
   ]
  },
  {
   "cell_type": "code",
   "execution_count": 24,
   "id": "4a43aca3-9062-4ac1-af45-0393b9d1b153",
   "metadata": {},
   "outputs": [],
   "source": [
    "prompt_template_with_parser = PromptTemplate(\n",
    "    template=template_for_desired_output_with_parser,\n",
    "    input_variables=[\"big_review\"],\n",
    "    partial_variables={\n",
    "        \"format_instructions\": output_parser.get_format_instructions()\n",
    "    }\n",
    ")"
   ]
  },
  {
   "cell_type": "code",
   "execution_count": 25,
   "id": "5382644e-f194-4fef-af6e-ef1c175b33a5",
   "metadata": {},
   "outputs": [],
   "source": [
    "user_input = \"\"\"\n",
    "La verdad que visité la Plaza de la Cultura,.. y en este momento solo esta funcionando el Museo de Historia y Geografia , lo cual me pareció muy bien remodelado.\n",
    "El Teatro Nacional cuando hay obras de teatro lo encuentro bien, solo que deberian poner mas las reglas de que las personas vayan mejor vestidas.\n",
    "El Museo de Arte Moderno.. lo estan remodelando.. ojalá terminen pronto y que la espera en la remodelacion valga la pena.. le hacia falta al lugar.\n",
    "Lo que no me gustó fué que desbarataron unos murales un artista Dominicano y eso no pudo pasar.\n",
    "\"\"\""
   ]
  },
  {
   "cell_type": "code",
   "execution_count": 26,
   "id": "fbc1227a-7968-415c-a4d6-d5e3f40aa188",
   "metadata": {},
   "outputs": [],
   "source": [
    "question = prompt_template_with_parser.format(big_review=user_input)"
   ]
  },
  {
   "cell_type": "code",
   "execution_count": 27,
   "id": "3b606706-9db0-405f-8b2d-c584293f901f",
   "metadata": {},
   "outputs": [],
   "source": [
    "response = llm(question)"
   ]
  },
  {
   "cell_type": "code",
   "execution_count": 28,
   "id": "8fc1e251-403f-47bd-9b48-5906a01d4abe",
   "metadata": {},
   "outputs": [],
   "source": [
    "formatted_output = output_parser.parse(response)"
   ]
  },
  {
   "cell_type": "code",
   "execution_count": 29,
   "id": "e8c485ec-73e9-4432-a1a7-5dd4f03e339a",
   "metadata": {},
   "outputs": [
    {
     "name": "stdout",
     "output_type": "stream",
     "text": [
      "<class '__main__.Reviews_Desired_Output_Structure'>\n"
     ]
    }
   ],
   "source": [
    "print(type(formatted_output))"
   ]
  },
  {
   "cell_type": "code",
   "execution_count": 30,
   "id": "cb58ccd5-fd55-4cd7-ac9a-9d47f446c38b",
   "metadata": {},
   "outputs": [
    {
     "name": "stdout",
     "output_type": "stream",
     "text": [
      "{'sentiment': ['neutral'], 'positive': ['La Plaza de la Cultura está bien remodelada.'], 'negative': ['La desaparición de los murales del artista dominicano es algo negativo.']}\n"
     ]
    }
   ],
   "source": [
    "import json\n",
    "json_output = formatted_output.json()\n",
    "python_dict = json.loads(json_output)\n",
    "print(python_dict)"
   ]
  },
  {
   "cell_type": "code",
   "execution_count": 31,
   "id": "93bf040f-5d72-46b6-a5f9-383c85ae1dd0",
   "metadata": {},
   "outputs": [
    {
     "name": "stdout",
     "output_type": "stream",
     "text": [
      "<class 'dict'>\n"
     ]
    }
   ],
   "source": [
    "print(type(python_dict))"
   ]
  },
  {
   "cell_type": "code",
   "execution_count": null,
   "id": "91711c9d-a683-4f7f-b6f2-4de08016350d",
   "metadata": {},
   "outputs": [],
   "source": []
  }
 ],
 "metadata": {
  "kernelspec": {
   "display_name": "Python 3 (ipykernel)",
   "language": "python",
   "name": "python3"
  },
  "language_info": {
   "codemirror_mode": {
    "name": "ipython",
    "version": 3
   },
   "file_extension": ".py",
   "mimetype": "text/x-python",
   "name": "python",
   "nbconvert_exporter": "python",
   "pygments_lexer": "ipython3",
   "version": "3.11.4"
  }
 },
 "nbformat": 4,
 "nbformat_minor": 5
}
