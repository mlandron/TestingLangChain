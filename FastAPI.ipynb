{
 "cells": [
  {
   "cell_type": "code",
   "execution_count": 1,
   "id": "11994732-2762-48c5-b4a4-faacceb473ce",
   "metadata": {},
   "outputs": [
    {
     "name": "stdout",
     "output_type": "stream",
     "text": [
      "OpenAI Key founded\n"
     ]
    }
   ],
   "source": [
    "import os\n",
    "from dotenv import load_dotenv\n",
    "\n",
    "dotenv_path = '.env'\n",
    "load_dotenv(dotenv_path)\n",
    "\n",
    "# Print out the environment variables loaded\n",
    "for key, value in os.environ.items():\n",
    "    if 'OPENAI' in key:\n",
    "        print(\"OpenAI Key founded\")\n",
    "        #print(f\"{key}: {value}\")\n",
    "\n",
    "openai_api_key = os.getenv('OPENAI_API_KEY')\n",
    "\n",
    "#print(f\"OpenAI API Key: {openai_api_key}\")"
   ]
  },
  {
   "cell_type": "code",
   "execution_count": 2,
   "id": "5b009c6e-f110-42e9-8015-95d0fadef3b8",
   "metadata": {},
   "outputs": [],
   "source": [
    "from langchain_openai import OpenAI\n",
    "from langchain.prompts.prompt import PromptTemplate\n",
    "llm = OpenAI()"
   ]
  },
  {
   "cell_type": "code",
   "execution_count": 13,
   "id": "693f0739-afd6-4d3b-b80c-b10da52af43d",
   "metadata": {},
   "outputs": [
    {
     "name": "stderr",
     "output_type": "stream",
     "text": [
      "Ignoring wrong pointing object 8 0 (offset 0)\n"
     ]
    }
   ],
   "source": [
    "from langchain.document_loaders import PyPDFLoader\n",
    "loader = PyPDFLoader(\"Data/InformeBC2023.pdf\")\n",
    "pages = loader.load()"
   ]
  },
  {
   "cell_type": "code",
   "execution_count": null,
   "id": "332cf39e-3e7d-4c72-839e-37ede3aacb99",
   "metadata": {},
   "outputs": [],
   "source": [
    "print(type(pages))"
   ]
  },
  {
   "cell_type": "code",
   "execution_count": 15,
   "id": "a7e0c173-d725-4f7d-9350-4d0b177c999d",
   "metadata": {},
   "outputs": [
    {
     "data": {
      "text/plain": [
       "5"
      ]
     },
     "execution_count": 15,
     "metadata": {},
     "output_type": "execute_result"
    }
   ],
   "source": [
    "len(pages)"
   ]
  },
  {
   "cell_type": "code",
   "execution_count": 16,
   "id": "d19f6636-78f6-4c78-a304-39c448cd42a9",
   "metadata": {},
   "outputs": [],
   "source": [
    "# Create a list of Document objects\n",
    "from langchain.schema import Document\n",
    "documents = [Document(page_content=page.page_content) for page in pages]\n",
    "#print(documents)"
   ]
  },
  {
   "cell_type": "code",
   "execution_count": 25,
   "id": "b1f4b049-a501-4891-8d0d-6a03e8a5e410",
   "metadata": {},
   "outputs": [
    {
     "name": "stdout",
     "output_type": "stream",
     "text": [
      "Your document has 3169 characters\n"
     ]
    }
   ],
   "source": [
    "print(f\"Your document has {len(documents[1].page_content)} characters\")"
   ]
  },
  {
   "cell_type": "markdown",
   "id": "ff18cbc5-1d3a-4816-a333-a4ff3804310b",
   "metadata": {},
   "source": [
    "**Split the document in small chunks**"
   ]
  },
  {
   "cell_type": "code",
   "execution_count": 26,
   "id": "2ca73e9b-74da-43b2-91c8-43daa857c98b",
   "metadata": {},
   "outputs": [],
   "source": [
    "from langchain.text_splitter import RecursiveCharacterTextSplitter"
   ]
  },
  {
   "cell_type": "code",
   "execution_count": 27,
   "id": "c4399971-da19-4ad7-9a57-ffb43be182e8",
   "metadata": {},
   "outputs": [],
   "source": [
    "text_splitter = RecursiveCharacterTextSplitter(\n",
    "    chunk_size=3000,\n",
    "    chunk_overlap=400\n",
    ")"
   ]
  },
  {
   "cell_type": "code",
   "execution_count": 28,
   "id": "509fb006-9ad1-4dac-91f2-f26d91a018ca",
   "metadata": {},
   "outputs": [],
   "source": [
    "document_chunks = text_splitter.split_documents(documents)"
   ]
  },
  {
   "cell_type": "code",
   "execution_count": 29,
   "id": "e60de1c7-e523-4e98-8b3c-0f2a103727fd",
   "metadata": {},
   "outputs": [
    {
     "name": "stdout",
     "output_type": "stream",
     "text": [
      "Now you have 8 chunks.\n"
     ]
    }
   ],
   "source": [
    "print(f\"Now you have {len(document_chunks)} chunks.\")"
   ]
  },
  {
   "cell_type": "code",
   "execution_count": 32,
   "id": "61bf02d2-5a4f-43f5-9556-37c0c6a9120b",
   "metadata": {},
   "outputs": [],
   "source": [
    "from langchain_openai import OpenAIEmbeddings\n",
    "embeddings = OpenAIEmbeddings()"
   ]
  },
  {
   "cell_type": "code",
   "execution_count": null,
   "id": "5582752e-1c3c-4a1e-a920-914586cce3cc",
   "metadata": {},
   "outputs": [],
   "source": []
  },
  {
   "cell_type": "markdown",
   "id": "8f7adbb3-32a8-4a1b-853e-d22557f4eada",
   "metadata": {},
   "source": [
    "**Load the embeddings to a vector database**"
   ]
  },
  {
   "cell_type": "code",
   "execution_count": 36,
   "id": "ee229ca7-ff9e-438e-b47e-f85edfc2115d",
   "metadata": {},
   "outputs": [],
   "source": [
    "#!pip install faiss-cpu"
   ]
  },
  {
   "cell_type": "code",
   "execution_count": 37,
   "id": "8ec6a822-638a-43e1-9318-0899b2848e06",
   "metadata": {},
   "outputs": [],
   "source": [
    "from langchain.vectorstores import FAISS"
   ]
  },
  {
   "cell_type": "code",
   "execution_count": 38,
   "id": "dc30dfbb-fbb6-4562-aa6f-480a8ddefa7a",
   "metadata": {},
   "outputs": [],
   "source": [
    "stored_embeddings = FAISS.from_documents(document_chunks, embeddings)"
   ]
  },
  {
   "cell_type": "markdown",
   "id": "6240a713-08c9-4921-971a-e452940a009a",
   "metadata": {},
   "source": [
    "**Create a Retrieval Question & Answering Chain**"
   ]
  },
  {
   "cell_type": "code",
   "execution_count": 39,
   "id": "250c6b95-1fac-4ed1-a29d-b428cf27e4aa",
   "metadata": {},
   "outputs": [],
   "source": [
    "from langchain.chains import RetrievalQA"
   ]
  },
  {
   "cell_type": "code",
   "execution_count": 40,
   "id": "af1b1232-8f4d-44cf-b3dc-dcee34f7acf1",
   "metadata": {},
   "outputs": [],
   "source": [
    "QA_chain = RetrievalQA.from_chain_type(\n",
    "    llm=llm,\n",
    "    chain_type=\"stuff\",\n",
    "    retriever=stored_embeddings.as_retriever()\n",
    ")"
   ]
  },
  {
   "cell_type": "markdown",
   "id": "5c0b2009-3ad7-4664-b2ca-2c905511d82e",
   "metadata": {},
   "source": [
    "**Now we have a Question & Answering APP**"
   ]
  },
  {
   "cell_type": "code",
   "execution_count": 41,
   "id": "89c0d5d9-6b9a-4634-9acc-da0fff4c36a1",
   "metadata": {},
   "outputs": [],
   "source": [
    "question = \"\"\"\n",
    "De que trata el texto? \n",
    "Describir en menos de 100 palabras.\n",
    "\"\"\""
   ]
  },
  {
   "cell_type": "code",
   "execution_count": 42,
   "id": "5a51e6dc-4e11-454f-ac85-d9bf15ade527",
   "metadata": {},
   "outputs": [
    {
     "name": "stderr",
     "output_type": "stream",
     "text": [
      "/Users/mlandron/.pyenv/versions/myenv444/lib/python3.11/site-packages/langchain_core/_api/deprecation.py:119: LangChainDeprecationWarning: The method `Chain.run` was deprecated in langchain 0.1.0 and will be removed in 0.3.0. Use invoke instead.\n",
      "  warn_deprecated(\n"
     ]
    },
    {
     "data": {
      "text/plain": [
       "'\\nEl texto trata sobre el desempeño económico de la República Dominicana en el año 2023 y las proyecciones para el año 2024. Se mencionan diferentes sectores que han tenido un impacto positivo en la economía, como la construcción, las actividades generadoras de divisas y la inversión extranjera. También se destaca el rol del gobierno en la provisión de apoyo técnico y financiero a los productores agropecuarios y la importancia de las remesas enviadas por la diáspora. Se mencionan cifras y estadísticas que reflejan un buen desempeño económico y se proyecta un crecimiento del 5% para el año 2024. '"
      ]
     },
     "execution_count": 42,
     "metadata": {},
     "output_type": "execute_result"
    }
   ],
   "source": [
    "QA_chain.run(question)"
   ]
  },
  {
   "cell_type": "code",
   "execution_count": 44,
   "id": "48a3ed67-69f1-4595-95dc-dc96fc54196b",
   "metadata": {},
   "outputs": [],
   "source": [
    "question2 = \"\"\"\n",
    "que significa IMAE?\n",
    "\"\"\""
   ]
  },
  {
   "cell_type": "code",
   "execution_count": 45,
   "id": "52ae16f5-dc84-495c-8f86-987eafbe4a56",
   "metadata": {},
   "outputs": [
    {
     "data": {
      "text/plain": [
       "'\\nIMAE significa Indicador Mensual de Actividad Económica. Es un indicador que mide el nivel de actividad económica en un país en un periodo determinado.'"
      ]
     },
     "execution_count": 45,
     "metadata": {},
     "output_type": "execute_result"
    }
   ],
   "source": [
    "QA_chain.run(question2)"
   ]
  },
  {
   "cell_type": "markdown",
   "id": "6d95a7b0-3fbc-4dc8-b820-8290f3be86b4",
   "metadata": {},
   "source": [
    "## Connect RAG App with FastAPI"
   ]
  },
  {
   "cell_type": "code",
   "execution_count": 47,
   "id": "62ea572a-6a26-4e89-a54e-0bf340edcd18",
   "metadata": {},
   "outputs": [],
   "source": [
    "#!pip install fastapi\n",
    "#!pip install uvicorn"
   ]
  },
  {
   "cell_type": "code",
   "execution_count": null,
   "id": "3102cd82-2958-4f36-813f-59073db94003",
   "metadata": {},
   "outputs": [],
   "source": [
    "from fastapi import FastAPI, HTTPException\n",
    "import uvicorn\n",
    "\n",
    "app = FastAPI()\n",
    "\n",
    "@app.post(\"/conversation\")\n",
    "async def conversation(query: str):\n",
    "    try:\n",
    "        result = QA_chain.run(query=query)\n",
    "        return {\"response\": result}\n",
    "    except Exception as e:\n",
    "        raise HTTPException(detail=str(e), status_code=500)\n",
    "\n",
    "if __name__ == \"__main__\":\n",
    "    uvicorn.run(app, host=\"0.0.0.0\", port=5566)"
   ]
  },
  {
   "cell_type": "code",
   "execution_count": null,
   "id": "63f37756-769d-4d6b-9b2e-a7d1c0bb2ade",
   "metadata": {},
   "outputs": [],
   "source": [
    "await server.serve()"
   ]
  },
  {
   "cell_type": "markdown",
   "id": "1b024d28-04b2-4dbc-99e1-aa087038dbd8",
   "metadata": {},
   "source": [
    "* Open http://0.0.0.0:5566/docs#\n",
    "* In Windows, open http://localhost:5566/docs#"
   ]
  },
  {
   "cell_type": "code",
   "execution_count": null,
   "id": "fb8a3d7b-e6b7-45ce-86db-bf0349f748c1",
   "metadata": {},
   "outputs": [],
   "source": []
  },
  {
   "cell_type": "markdown",
   "id": "692b285b-42ef-45cf-9096-9579d137b054",
   "metadata": {},
   "source": [
    "**If you are using VS Code editor, use the following instead and then execute python filename.py in your terminal:**"
   ]
  },
  {
   "cell_type": "code",
   "execution_count": null,
   "id": "23fdf7af-85ce-4b1a-af49-891cddc25650",
   "metadata": {},
   "outputs": [],
   "source": [
    "# if __name__ == \"__main__\":\n",
    "#     import uvicorn\n",
    "\n",
    "#     uvicorn.run(app, host=\"0.0.0.0\", port=5566)"
   ]
  }
 ],
 "metadata": {
  "kernelspec": {
   "display_name": "Python 3 (ipykernel)",
   "language": "python",
   "name": "python3"
  },
  "language_info": {
   "codemirror_mode": {
    "name": "ipython",
    "version": 3
   },
   "file_extension": ".py",
   "mimetype": "text/x-python",
   "name": "python",
   "nbconvert_exporter": "python",
   "pygments_lexer": "ipython3",
   "version": "3.11.4"
  }
 },
 "nbformat": 4,
 "nbformat_minor": 5
}
